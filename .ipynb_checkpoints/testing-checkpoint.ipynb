{
 "cells": [
  {
   "cell_type": "code",
   "execution_count": 1,
   "id": "71c95ef7",
   "metadata": {},
   "outputs": [],
   "source": [
    "\n",
    "import numpy as np\n",
    "import pandas as pd\n",
    "import matplotlib.pyplot as plt\n",
    "\n",
    "\n",
    "from crevprop import fracture\n",
    "from crevprop.physical_constants import THERMAL_DIFFUSIVITY as kappa\n",
    "import crevprop.physical_constants as pconst\n",
    "from crevprop.iceblock import IceBlock, ThermalModel"
   ]
  },
  {
   "cell_type": "code",
   "execution_count": 2,
   "id": "046b7bc4",
   "metadata": {
    "collapsed": true,
    "jupyter": {
     "outputs_hidden": true,
     "source_hidden": true
    },
    "tags": []
   },
   "outputs": [
    {
     "data": {
      "text/plain": [
       "array([  1.  ,   5.99,  10.98,  15.97,  20.96,  25.95,  30.94,  35.93,\n",
       "        40.92,  45.91,  50.9 ,  55.89,  60.88,  65.87,  70.86,  75.85,\n",
       "        80.84,  85.83,  90.82,  95.81, 100.8 , 105.79, 110.78, 115.77,\n",
       "       120.76, 125.75, 130.74, 135.73, 140.72, 145.71, 150.7 , 155.69,\n",
       "       160.68, 165.67, 170.66, 175.65, 180.64, 185.63, 190.62, 195.61,\n",
       "       200.6 , 205.59, 210.58, 215.57, 220.56, 225.55, 230.54, 235.53,\n",
       "       240.52, 245.51, 250.5 , 255.49, 260.48, 265.47, 270.46, 275.45,\n",
       "       280.44, 285.43, 290.42, 295.41, 300.4 , 305.39, 310.38, 315.37,\n",
       "       320.36, 325.35, 330.34, 335.33, 340.32, 345.31, 350.3 , 355.29,\n",
       "       360.28, 365.27, 370.26, 375.25, 380.24, 385.23, 390.22, 395.21,\n",
       "       400.2 , 405.19, 410.18, 415.17, 420.16, 425.15, 430.14, 435.13,\n",
       "       440.12, 445.11, 450.1 , 455.09, 460.08, 465.07, 470.06, 475.05,\n",
       "       480.04, 485.03, 490.02, 495.01, 500.  ])"
      ]
     },
     "execution_count": 2,
     "metadata": {},
     "output_type": "execute_result"
    }
   ],
   "source": [
    "# set up model domain for testing\n",
    "# z-axis \n",
    "\n",
    "# meters\n",
    "ice_thickness = 500.\n",
    "crevasse_depth = 2.\n",
    "\n",
    "\n",
    "depth_array = np.linspace(1,ice_thickness,num=101)\n",
    "depth_array\n"
   ]
  },
  {
   "cell_type": "code",
   "execution_count": 3,
   "id": "59861a73",
   "metadata": {
    "collapsed": true,
    "jupyter": {
     "outputs_hidden": true,
     "source_hidden": true
    },
    "tags": []
   },
   "outputs": [
    {
     "ename": "NameError",
     "evalue": "name 'mu' is not defined",
     "output_type": "error",
     "traceback": [
      "\u001b[0;31m---------------------------------------------------------------------------\u001b[0m",
      "\u001b[0;31mNameError\u001b[0m                                 Traceback (most recent call last)",
      "\u001b[0;32m/var/folders/42/qdgwfmld1zsdty9pbthfwljr0000gn/T/ipykernel_21003/1567735714.py\u001b[0m in \u001b[0;36m<module>\u001b[0;34m\u001b[0m\n\u001b[1;32m      1\u001b[0m \u001b[0mfig\u001b[0m\u001b[0;34m=\u001b[0m\u001b[0mplt\u001b[0m\u001b[0;34m.\u001b[0m\u001b[0mfigure\u001b[0m\u001b[0;34m(\u001b[0m\u001b[0;34m)\u001b[0m\u001b[0;34m\u001b[0m\u001b[0;34m\u001b[0m\u001b[0m\n\u001b[1;32m      2\u001b[0m \u001b[0max\u001b[0m\u001b[0;34m=\u001b[0m\u001b[0mfig\u001b[0m\u001b[0;34m.\u001b[0m\u001b[0madd_subplot\u001b[0m\u001b[0;34m(\u001b[0m\u001b[0;36m111\u001b[0m\u001b[0;34m,\u001b[0m\u001b[0mxlim\u001b[0m\u001b[0;34m=\u001b[0m\u001b[0;34m(\u001b[0m\u001b[0;34m-\u001b[0m\u001b[0;36m.1\u001b[0m\u001b[0;34m,\u001b[0m\u001b[0;36m.1\u001b[0m\u001b[0;34m)\u001b[0m\u001b[0;34m,\u001b[0m\u001b[0mylim\u001b[0m\u001b[0;34m=\u001b[0m\u001b[0;34m(\u001b[0m\u001b[0;36m0\u001b[0m\u001b[0;34m,\u001b[0m\u001b[0;36m100\u001b[0m\u001b[0;34m)\u001b[0m\u001b[0;34m)\u001b[0m\u001b[0;34m\u001b[0m\u001b[0;34m\u001b[0m\u001b[0m\n\u001b[0;32m----> 3\u001b[0;31m \u001b[0max\u001b[0m\u001b[0;34m.\u001b[0m\u001b[0mplot\u001b[0m\u001b[0;34m(\u001b[0m\u001b[0mfracture\u001b[0m\u001b[0;34m.\u001b[0m\u001b[0melastic_displacement\u001b[0m\u001b[0;34m(\u001b[0m\u001b[0mdepth_array\u001b[0m\u001b[0;34m,\u001b[0m\u001b[0;36m120000\u001b[0m\u001b[0;34m,\u001b[0m\u001b[0mmu\u001b[0m\u001b[0;34m,\u001b[0m\u001b[0;36m70\u001b[0m\u001b[0;34m,\u001b[0m\u001b[0;36m50\u001b[0m\u001b[0;34m,\u001b[0m\u001b[0mhas_water\u001b[0m\u001b[0;34m=\u001b[0m\u001b[0;32mTrue\u001b[0m\u001b[0;34m)\u001b[0m\u001b[0;34m,\u001b[0m\u001b[0mdepth_array\u001b[0m\u001b[0;34m,\u001b[0m\u001b[0;34m'.'\u001b[0m\u001b[0;34m)\u001b[0m\u001b[0;34m\u001b[0m\u001b[0;34m\u001b[0m\u001b[0m\n\u001b[0m\u001b[1;32m      4\u001b[0m \u001b[0max\u001b[0m\u001b[0;34m.\u001b[0m\u001b[0mplot\u001b[0m\u001b[0;34m(\u001b[0m\u001b[0mfracture\u001b[0m\u001b[0;34m.\u001b[0m\u001b[0melastic_displacement\u001b[0m\u001b[0;34m(\u001b[0m\u001b[0mdepth_array\u001b[0m\u001b[0;34m,\u001b[0m\u001b[0;36m120000\u001b[0m\u001b[0;34m,\u001b[0m\u001b[0mmu\u001b[0m\u001b[0;34m,\u001b[0m\u001b[0;36m70\u001b[0m\u001b[0;34m,\u001b[0m\u001b[0;36m50\u001b[0m\u001b[0;34m,\u001b[0m\u001b[0mhas_water\u001b[0m\u001b[0;34m=\u001b[0m\u001b[0;32mTrue\u001b[0m\u001b[0;34m)\u001b[0m\u001b[0;34m*\u001b[0m\u001b[0;34m-\u001b[0m\u001b[0;36m1\u001b[0m\u001b[0;34m,\u001b[0m\u001b[0mdepth_array\u001b[0m\u001b[0;34m,\u001b[0m\u001b[0;34m'.'\u001b[0m\u001b[0;34m)\u001b[0m\u001b[0;34m\u001b[0m\u001b[0;34m\u001b[0m\u001b[0m\n\u001b[1;32m      5\u001b[0m \u001b[0mplt\u001b[0m\u001b[0;34m.\u001b[0m\u001b[0mgca\u001b[0m\u001b[0;34m(\u001b[0m\u001b[0;34m)\u001b[0m\u001b[0;34m.\u001b[0m\u001b[0minvert_yaxis\u001b[0m\u001b[0;34m(\u001b[0m\u001b[0;34m)\u001b[0m\u001b[0;34m\u001b[0m\u001b[0;34m\u001b[0m\u001b[0m\n",
      "\u001b[0;31mNameError\u001b[0m: name 'mu' is not defined"
     ]
    },
    {
     "data": {
      "image/png": "[encoded data removed]",
      "text/plain": [
       "<Figure size 432x288 with 1 Axes>"
      ]
     },
     "metadata": {
      "needs_background": "light"
     },
     "output_type": "display_data"
    }
   ],
   "source": [
    "fig=plt.figure()\n",
    "ax=fig.add_subplot(111,xlim=(-.1,.1),ylim=(0,100))\n",
    "ax.plot(fracture.elastic_displacement(depth_array,120000,mu,70,50,has_water=True),depth_array,'.')\n",
    "ax.plot(fracture.elastic_displacement(depth_array,120000,mu,70,50,has_water=True)*-1,depth_array,'.')\n",
    "plt.gca().invert_yaxis()"
   ]
  },
  {
   "cell_type": "markdown",
   "id": "b85e5591",
   "metadata": {},
   "source": [
    "Working on creating the temperature matrix and matrix inversion\n",
    "\n",
    "Ac=T -> c=A'T"
   ]
  },
  {
   "cell_type": "code",
   "execution_count": 4,
   "id": "c3a2df8e",
   "metadata": {
    "collapsed": true,
    "jupyter": {
     "outputs_hidden": true,
     "source_hidden": true
    },
    "tags": []
   },
   "outputs": [
    {
     "data": {
      "text/plain": [
       "array([[1., 0., 0., 0., 0., 0., 0., 0., 0., 0., 0., 0., 0., 0., 0., 0.],\n",
       "       [0., 1., 0., 0., 0., 0., 0., 0., 0., 0., 0., 0., 0., 0., 0., 0.],\n",
       "       [0., 0., 1., 0., 0., 0., 0., 0., 0., 0., 0., 0., 0., 0., 0., 0.],\n",
       "       [0., 0., 0., 1., 0., 0., 0., 0., 0., 0., 0., 0., 0., 0., 0., 0.],\n",
       "       [0., 0., 0., 0., 1., 0., 0., 0., 0., 0., 0., 0., 0., 0., 0., 0.],\n",
       "       [0., 0., 0., 0., 0., 1., 0., 0., 0., 0., 0., 0., 0., 0., 0., 0.],\n",
       "       [0., 0., 0., 0., 0., 0., 1., 0., 0., 0., 0., 0., 0., 0., 0., 0.],\n",
       "       [0., 0., 0., 0., 0., 0., 0., 1., 0., 0., 0., 0., 0., 0., 0., 0.],\n",
       "       [0., 0., 0., 0., 0., 0., 0., 0., 1., 0., 0., 0., 0., 0., 0., 0.],\n",
       "       [0., 0., 0., 0., 0., 0., 0., 0., 0., 1., 0., 0., 0., 0., 0., 0.],\n",
       "       [0., 0., 0., 0., 0., 0., 0., 0., 0., 0., 1., 0., 0., 0., 0., 0.],\n",
       "       [0., 0., 0., 0., 0., 0., 0., 0., 0., 0., 0., 1., 0., 0., 0., 0.],\n",
       "       [0., 0., 0., 0., 0., 0., 0., 0., 0., 0., 0., 0., 1., 0., 0., 0.],\n",
       "       [0., 0., 0., 0., 0., 0., 0., 0., 0., 0., 0., 0., 0., 1., 0., 0.],\n",
       "       [0., 0., 0., 0., 0., 0., 0., 0., 0., 0., 0., 0., 0., 0., 1., 0.],\n",
       "       [0., 0., 0., 0., 0., 0., 0., 0., 0., 0., 0., 0., 0., 0., 0., 1.]])"
      ]
     },
     "execution_count": 4,
     "metadata": {},
     "output_type": "execute_result"
    }
   ],
   "source": [
    "ice_thickness = 1000.\n",
    "dt = 3600. * 12.\n",
    "dx = np.sqrt(kappa*dt)\n",
    "dz = 5\n",
    "sx = kappa*dt/dx**2\n",
    "sz = kappa*dt/dz**2\n",
    "\n",
    "\n",
    "np.identity(16)\n"
   ]
  },
  {
   "cell_type": "code",
   "execution_count": null,
   "id": "e00c6e17",
   "metadata": {
    "tags": []
   },
   "outputs": [],
   "source": []
  },
  {
   "cell_type": "markdown",
   "id": "b08e30b8",
   "metadata": {},
   "source": [
    "## Testing iceblock.py"
   ]
  },
  {
   "cell_type": "code",
   "execution_count": 2,
   "id": "d167b8de",
   "metadata": {},
   "outputs": [],
   "source": [
    "tprof = pd.read_csv('./data/foxxTemperatureProfile.csv',names=[\"T\",\"z\"])"
   ]
  },
  {
   "cell_type": "code",
   "execution_count": 3,
   "id": "eb6d316c",
   "metadata": {},
   "outputs": [],
   "source": [
    "ib = IceBlock(600,1,1,100/3,0.5,10)\n",
    "tmod = ThermalModel(600,ib.length,ib.dt_T,1,tprof)"
   ]
  },
  {
   "cell_type": "code",
   "execution_count": 4,
   "id": "63a981dc",
   "metadata": {},
   "outputs": [
    {
     "data": {
      "text/plain": [
       "(121, 196)"
      ]
     },
     "execution_count": 4,
     "metadata": {},
     "output_type": "execute_result"
    }
   ],
   "source": [
    "tmod.T.shape"
   ]
  },
  {
   "cell_type": "code",
   "execution_count": 5,
   "id": "554204bd",
   "metadata": {},
   "outputs": [
    {
     "data": {
      "text/plain": [
       "Text(0.5, 0, 'ice temperature (C)')"
      ]
     },
     "execution_count": 5,
     "metadata": {},
     "output_type": "execute_result"
    },
    {
     "data": {
      "image/png": "[encoded data removed]",
      "text/plain": [
       "<Figure size 288x720 with 1 Axes>"
      ]
     },
     "metadata": {
      "needs_background": "light"
     },
     "output_type": "display_data"
    }
   ],
   "source": [
    "plt.figure(figsize=(4,10))\n",
    "plt.plot(tmod.T_upglacier,tmod.z)\n",
    "plt.ylabel('depth (m)')\n",
    "plt.xlabel('ice temperature (C)')"
   ]
  },
  {
   "cell_type": "code",
   "execution_count": 6,
   "id": "97693b03",
   "metadata": {},
   "outputs": [
    {
     "data": {
      "text/plain": [
       "(121, 196)"
      ]
     },
     "execution_count": 6,
     "metadata": {},
     "output_type": "execute_result"
    }
   ],
   "source": [
    "np.outer(tmod.T_upglacier,np.linspace(1,0.99,tmod.x.size)).shape"
   ]
  },
  {
   "cell_type": "code",
   "execution_count": 7,
   "id": "24602360",
   "metadata": {},
   "outputs": [
    {
     "data": {
      "text/plain": [
       "0     -2.031980\n",
       "1     -2.162369\n",
       "2     -2.294751\n",
       "3     -2.428776\n",
       "4     -2.564169\n",
       "         ...   \n",
       "116   -1.906774\n",
       "117   -1.934750\n",
       "118   -1.970384\n",
       "119   -2.015207\n",
       "120   -2.071188\n",
       "Length: 121, dtype: float64"
      ]
     },
     "execution_count": 7,
     "metadata": {},
     "output_type": "execute_result"
    }
   ],
   "source": [
    "T=pd.Series(np.interp(tmod.z,tprof['z'],tprof['T'])).rolling(27, min_periods=1, center=True).mean()\n",
    "T"
   ]
  },
  {
   "cell_type": "code",
   "execution_count": 8,
   "id": "5fd1c322",
   "metadata": {},
   "outputs": [
    {
     "data": {
      "text/plain": [
       "121"
      ]
     },
     "execution_count": 8,
     "metadata": {},
     "output_type": "execute_result"
    }
   ],
   "source": [
    "tmod.z.size"
   ]
  },
  {
   "cell_type": "code",
   "execution_count": 9,
   "id": "effad662",
   "metadata": {},
   "outputs": [
    {
     "data": {
      "text/plain": [
       "121"
      ]
     },
     "execution_count": 9,
     "metadata": {},
     "output_type": "execute_result"
    }
   ],
   "source": [
    "tmod.T_upglacier.size"
   ]
  },
  {
   "cell_type": "code",
   "execution_count": 10,
   "id": "3d6302e6",
   "metadata": {},
   "outputs": [
    {
     "data": {
      "text/plain": [
       "[<matplotlib.lines.Line2D at 0x16245d880>]"
      ]
     },
     "execution_count": 10,
     "metadata": {},
     "output_type": "execute_result"
    },
    {
     "data": {
      "image/png": "[encoded data removed]",
      "text/plain": [
       "<Figure size 432x1080 with 1 Axes>"
      ]
     },
     "metadata": {
      "needs_background": "light"
     },
     "output_type": "display_data"
    }
   ],
   "source": [
    "T=np.interp(tmod.z,tprof[\"z\"].values,tprof[\"T\"].values)\n",
    "fig=plt.figure(figsize=(6,15))\n",
    "plt.plot(T,tmod.z)\n",
    "plt.plot(pd.Series(T).rolling(27,min_periods=1,center=True).mean().values,tmod.z)\n",
    "# ensure bed temperature is preserved\n",
    "\n",
    "plt.plot(pd.Series(T)[:27].append(pd.Series(T).rolling(27,min_periods=1,center=True).mean()[27:]),tmod.z)\n",
    "# plt.plot(pd.Series(T).rolling(27,min_periods=1,center=True,win_type=\"gaussian\").mean(std=27/8).values,tmod.z)"
   ]
  },
  {
   "cell_type": "code",
   "execution_count": 11,
   "id": "286854fb-e1a4-48b0-8219-1e144a19f184",
   "metadata": {},
   "outputs": [
    {
     "data": {
      "text/plain": [
       "1.0909527290182516e-06"
      ]
     },
     "execution_count": 11,
     "metadata": {},
     "output_type": "execute_result"
    }
   ],
   "source": [
    "kappa"
   ]
  },
  {
   "cell_type": "markdown",
   "id": "581ccac9-b764-43b3-a058-724418dc1735",
   "metadata": {},
   "source": [
    "Creating the A Matrix to solve for temperatures\n",
    "\n",
    "**A** = 16 x 16 matrix"
   ]
  },
  {
   "cell_type": "code",
   "execution_count": 12,
   "id": "528911f5-9f09-4a2c-a2bb-709bd1c4bd5e",
   "metadata": {},
   "outputs": [
    {
     "data": {
      "text/plain": [
       "array([[1., 0., 0., 0., 0., 0., 0., 0., 0., 0., 0., 0., 0., 0., 0., 0.],\n",
       "       [0., 1., 0., 0., 0., 0., 0., 0., 0., 0., 0., 0., 0., 0., 0., 0.],\n",
       "       [0., 0., 1., 0., 0., 0., 0., 0., 0., 0., 0., 0., 0., 0., 0., 0.],\n",
       "       [0., 0., 0., 1., 0., 0., 0., 0., 0., 0., 0., 0., 0., 0., 0., 0.],\n",
       "       [0., 0., 0., 0., 1., 0., 0., 0., 0., 0., 0., 0., 0., 0., 0., 0.],\n",
       "       [0., 0., 0., 0., 0., 1., 0., 0., 0., 0., 0., 0., 0., 0., 0., 0.],\n",
       "       [0., 0., 0., 0., 0., 0., 1., 0., 0., 0., 0., 0., 0., 0., 0., 0.],\n",
       "       [0., 0., 0., 0., 0., 0., 0., 1., 0., 0., 0., 0., 0., 0., 0., 0.],\n",
       "       [0., 0., 0., 0., 0., 0., 0., 0., 1., 0., 0., 0., 0., 0., 0., 0.],\n",
       "       [0., 0., 0., 0., 0., 0., 0., 0., 0., 1., 0., 0., 0., 0., 0., 0.],\n",
       "       [0., 0., 0., 0., 0., 0., 0., 0., 0., 0., 1., 0., 0., 0., 0., 0.],\n",
       "       [0., 0., 0., 0., 0., 0., 0., 0., 0., 0., 0., 1., 0., 0., 0., 0.],\n",
       "       [0., 0., 0., 0., 0., 0., 0., 0., 0., 0., 0., 0., 1., 0., 0., 0.],\n",
       "       [0., 0., 0., 0., 0., 0., 0., 0., 0., 0., 0., 0., 0., 1., 0., 0.],\n",
       "       [0., 0., 0., 0., 0., 0., 0., 0., 0., 0., 0., 0., 0., 0., 1., 0.],\n",
       "       [0., 0., 0., 0., 0., 0., 0., 0., 0., 0., 0., 0., 0., 0., 0., 1.]])"
      ]
     },
     "execution_count": 12,
     "metadata": {},
     "output_type": "execute_result"
    }
   ],
   "source": [
    "np.eye(16)"
   ]
  },
  {
   "cell_type": "code",
   "execution_count": 13,
   "id": "84459e01-e1f2-4e2b-9278-9df1471344e4",
   "metadata": {},
   "outputs": [],
   "source": [
    "# define matrix terms\n",
    "sx = kappa * tmod.dt / tmod.dx ** 2\n",
    "sz = kappa * tmod.dt / tmod.dz ** 2"
   ]
  },
  {
   "cell_type": "code",
   "execution_count": 20,
   "id": "32c4e281-bc51-4bc7-8254-4d8c36b3d100",
   "metadata": {},
   "outputs": [],
   "source": [
    "sx = kappa * tmod.dt / tmod.dx ** 2"
   ]
  },
  {
   "cell_type": "code",
   "execution_count": 22,
   "id": "3ff9b3cd-59a9-4bd4-b900-1e23760ff0ee",
   "metadata": {},
   "outputs": [
    {
     "data": {
      "text/plain": [
       "0.9977360548967413"
      ]
     },
     "execution_count": 22,
     "metadata": {},
     "output_type": "execute_result"
    }
   ],
   "source": [
    "sx"
   ]
  },
  {
   "cell_type": "code",
   "execution_count": 17,
   "id": "a353ff1d-7570-46bd-856e-0a3eed897cc4",
   "metadata": {},
   "outputs": [
    {
     "data": {
      "text/plain": [
       "0.6872852233676976"
      ]
     },
     "execution_count": 17,
     "metadata": {},
     "output_type": "execute_result"
    }
   ],
   "source": [
    "tmod.dx"
   ]
  },
  {
   "cell_type": "code",
   "execution_count": 25,
   "id": "ed72df5e-041c-4fdd-8654-2af311ad2891",
   "metadata": {},
   "outputs": [
    {
     "data": {
      "text/plain": [
       "194.0"
      ]
     },
     "execution_count": 25,
     "metadata": {},
     "output_type": "execute_result"
    }
   ],
   "source": [
    "tmod.length/tmod.dx"
   ]
  },
  {
   "cell_type": "code",
   "execution_count": 34,
   "id": "36f2aa32-6a0a-4350-a25b-8366ddd23481",
   "metadata": {},
   "outputs": [
    {
     "data": {
      "text/plain": [
       "196"
      ]
     },
     "execution_count": 34,
     "metadata": {},
     "output_type": "execute_result"
    }
   ],
   "source": [
    "tmod.x.size"
   ]
  },
  {
   "cell_type": "code",
   "execution_count": 15,
   "id": "5d4a2124-4ded-4fc1-8d7d-2767bf7815da",
   "metadata": {},
   "outputs": [
    {
     "data": {
      "text/plain": [
       "121"
      ]
     },
     "execution_count": 15,
     "metadata": {},
     "output_type": "execute_result"
    }
   ],
   "source": [
    "tmod.z.size"
   ]
  },
  {
   "cell_type": "code",
   "execution_count": 16,
   "id": "41fc0a25-f7db-4d0d-80fc-d7e5148f27c4",
   "metadata": {},
   "outputs": [
    {
     "data": {
      "text/plain": [
       "23716"
      ]
     },
     "execution_count": 16,
     "metadata": {},
     "output_type": "execute_result"
    }
   ],
   "source": [
    "tmod.z.size * tmod.x.size"
   ]
  },
  {
   "cell_type": "code",
   "execution_count": 14,
   "id": "dc3a15d9-916a-474e-9257-00a126f8cd27",
   "metadata": {},
   "outputs": [
    {
     "data": {
      "text/plain": [
       "5"
      ]
     },
     "execution_count": 14,
     "metadata": {},
     "output_type": "execute_result"
    }
   ],
   "source": [
    "tmod.dz"
   ]
  },
  {
   "cell_type": "code",
   "execution_count": 18,
   "id": "6e915ae2-2e1b-4943-852e-3d52bdad1bbc",
   "metadata": {},
   "outputs": [
    {
     "data": {
      "text/plain": [
       "432000"
      ]
     },
     "execution_count": 18,
     "metadata": {},
     "output_type": "execute_result"
    }
   ],
   "source": [
    "tmod.dt"
   ]
  },
  {
   "cell_type": "code",
   "execution_count": null,
   "id": "8405657a-748d-40b3-a7af-115b80aaa18e",
   "metadata": {},
   "outputs": [],
   "source": []
  }
 ],
 "metadata": {
  "kernelspec": {
   "display_name": "Python 3 (ipykernel)",
   "language": "python",
   "name": "python3"
  },
  "language_info": {
   "codemirror_mode": {
    "name": "ipython",
    "version": 3
   },
   "file_extension": ".py",
   "mimetype": "text/x-python",
   "name": "python",
   "nbconvert_exporter": "python",
   "pygments_lexer": "ipython3",
   "version": "3.9.7"
  }
 },
 "nbformat": 4,
 "nbformat_minor": 5
}
