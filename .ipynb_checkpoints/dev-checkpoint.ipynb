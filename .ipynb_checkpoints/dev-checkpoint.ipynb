{
 "cells": [
  {
   "cell_type": "code",
   "execution_count": 1,
   "id": "6dd9cea1-3041-4320-a2cd-aa8ca5e65524",
   "metadata": {},
   "outputs": [],
   "source": [
    "\n",
    "\n",
    "\n",
    "import numpy as np\n",
    "import pandas as pd\n",
    "from matplotlib import pyplot as plt\n",
    "import seaborn as sns\n",
    "\n",
    "from crevprop.physical_constants import THERMAL_DIFFUSIVITY\n",
    "from crevprop.iceblock import IceBlock, ThermalModel"
   ]
  },
  {
   "cell_type": "code",
   "execution_count": null,
   "id": "b766b5e3-73fc-4a72-8ebf-6cfb4ed5f964",
   "metadata": {
    "tags": []
   },
   "outputs": [],
   "source": [
    "np.set_printoptions(threshold=np.inf, linewidth=1000)\n",
    "\n",
    "# %%html\n",
    "# <style>\n",
    "# div.output_area pre {\n",
    "#     white-space: pre;\n",
    "# }\n",
    "# </style>"
   ]
  },
  {
   "cell_type": "code",
   "execution_count": null,
   "id": "1274d6d2-2eef-45d5-9978-7d5c981061b4",
   "metadata": {},
   "outputs": [],
   "source": [
    "\n",
    "\n",
    "ice_thickness = 600 # H - ice thickness (m)\n",
    "length = 1500 # L - domain length (m)\n",
    "crev_spacing = 50 # R (m)\n",
    "\n",
    "nx = 8 # number of points in x direction (T grid)\n",
    "nz = 6 # number of points in z direction (T grid)\n",
    "dt_T = 43200000 # thermal model time step (seconds)\n",
    "dx = (0.5 * length)/round(0.5*length/np.sqrt(1.090952729018252e-6 * dt_T)) # x grid spacing\n",
    "dz = 5 # z grid spacing\n",
    "\n",
    "\n",
    "sx = round(THERMAL_DIFFUSIVITY * dt_T / dx ** 2, 3)\n",
    "sz = round(THERMAL_DIFFUSIVITY * dt_T / dz ** 2, 3)\n",
    "\n",
    "A = np.eye(nz*nx)\n"
   ]
  },
  {
   "cell_type": "raw",
   "id": "658603a6-cad0-43bb-9582-cc826ecdf487",
   "metadata": {},
   "source": []
  },
  {
   "cell_type": "code",
   "execution_count": null,
   "id": "7d5cc0d8-c6a5-4cb2-a3dd-e2f4f494a952",
   "metadata": {
    "tags": []
   },
   "outputs": [],
   "source": [
    "# return all points on a boundary condition (i.e. only 1 along diagonal in A matrix with 0's elsewhere)\n",
    "# for i in range(nx,(nx*nz)-nx):\n",
    "#     if i%nx==0 or i%nx==7:\n",
    "#         print(i)\n",
    "#     else:\n",
    "#         continue\n"
   ]
  },
  {
   "cell_type": "code",
   "execution_count": null,
   "id": "2d0c5e3f-c59f-4e04-a6ae-c5ab8bc6a443",
   "metadata": {
    "tags": []
   },
   "outputs": [],
   "source": [
    "for i in range(nx, (nx*nz)-nx):\n",
    "    if i%nx!=0 and i%nx!=nx-1:\n",
    "        A[i,i] = 1 + 2*sx + 2*sz\n",
    "        A[i,i-nx] = A[i,i+nx] = -sz\n",
    "        A[i,i+1] = A[i,i-1] = -sx\n",
    "        \n",
    "\n",
    "\n",
    "# print(A)"
   ]
  },
  {
   "cell_type": "code",
   "execution_count": null,
   "id": "63b1502c-f3bf-4d3d-bcf6-fe4ae36f40b6",
   "metadata": {},
   "outputs": [],
   "source": [
    "np.array([[0,1,2,3,4,5,6,7],[8,9,10,11,12,13,14,15],[16,17,18,19,20,21,22,23],[24,25,26,27,28,29,30,31],[32,33,34,35,36,37,38,39],[40,41,42,43,44,45,46,47]])"
   ]
  },
  {
   "cell_type": "code",
   "execution_count": null,
   "id": "af23d72e-c36c-4d53-af2e-6d91d8b382c2",
   "metadata": {},
   "outputs": [],
   "source": [
    "tm = ThermalModel(ice_thickness, length,dt_T,dz,pd.read_csv('./data/foxxTemperatureProfile.csv',names=['t','x']))\n",
    "tm"
   ]
  },
  {
   "cell_type": "code",
   "execution_count": null,
   "id": "d8eacd2f-8df4-4a34-a848-44af3cf13ae6",
   "metadata": {},
   "outputs": [],
   "source": [
    "tm.z.T.shape"
   ]
  },
  {
   "cell_type": "code",
   "execution_count": null,
   "id": "1ce23892-2649-47ca-8c31-e6c1281d8aee",
   "metadata": {},
   "outputs": [],
   "source": [
    "tm.x.size"
   ]
  },
  {
   "cell_type": "code",
   "execution_count": null,
   "id": "abc06688-592a-4440-98d6-017a9cd70705",
   "metadata": {},
   "outputs": [],
   "source": [
    "tm.Tdf"
   ]
  },
  {
   "cell_type": "code",
   "execution_count": null,
   "id": "deeb6b54-23ef-448b-b83c-538202f22a07",
   "metadata": {},
   "outputs": [],
   "source": [
    "fig = plt.figure(figsize=(15,10))\n",
    "ax = sns.heatmap(tm.Tdf, cmap=sns.diverging_palette(230, 20, as_cmap=True), center=0)\n",
    "ax.invert_yaxis()"
   ]
  },
  {
   "cell_type": "code",
   "execution_count": null,
   "id": "669d99e6-6828-46d8-bd65-eea2d5e3c39e",
   "metadata": {},
   "outputs": [],
   "source": []
  }
 ],
 "metadata": {
  "kernelspec": {
   "display_name": "Python 3 (ipykernel)",
   "language": "python",
   "name": "python3"
  },
  "language_info": {
   "codemirror_mode": {
    "name": "ipython",
    "version": 3
   },
   "file_extension": ".py",
   "mimetype": "text/x-python",
   "name": "python",
   "nbconvert_exporter": "python",
   "pygments_lexer": "ipython3",
   "version": "3.9.7"
  }
 },
 "nbformat": 4,
 "nbformat_minor": 5
}
