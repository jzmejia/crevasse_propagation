{
 "cells": [
  {
   "cell_type": "code",
   "execution_count": 1,
   "id": "41741790-34ac-4da4-bd2a-f14eab1289be",
   "metadata": {},
   "outputs": [],
   "source": [
    "\n",
    "import numpy as np\n",
    "import pandas as pd\n",
    "import matplotlib.pyplot as plt\n",
    "\n",
    "\n",
    "from crevprop import fracture"
   ]
  },
  {
   "cell_type": "code",
   "execution_count": 19,
   "id": "ff55aeab-9cff-4b6f-a886-227ca0aa29b4",
   "metadata": {},
   "outputs": [
    {
     "data": {
      "text/plain": [
       "array([  1.  ,   5.99,  10.98,  15.97,  20.96,  25.95,  30.94,  35.93,\n",
       "        40.92,  45.91,  50.9 ,  55.89,  60.88,  65.87,  70.86,  75.85,\n",
       "        80.84,  85.83,  90.82,  95.81, 100.8 , 105.79, 110.78, 115.77,\n",
       "       120.76, 125.75, 130.74, 135.73, 140.72, 145.71, 150.7 , 155.69,\n",
       "       160.68, 165.67, 170.66, 175.65, 180.64, 185.63, 190.62, 195.61,\n",
       "       200.6 , 205.59, 210.58, 215.57, 220.56, 225.55, 230.54, 235.53,\n",
       "       240.52, 245.51, 250.5 , 255.49, 260.48, 265.47, 270.46, 275.45,\n",
       "       280.44, 285.43, 290.42, 295.41, 300.4 , 305.39, 310.38, 315.37,\n",
       "       320.36, 325.35, 330.34, 335.33, 340.32, 345.31, 350.3 , 355.29,\n",
       "       360.28, 365.27, 370.26, 375.25, 380.24, 385.23, 390.22, 395.21,\n",
       "       400.2 , 405.19, 410.18, 415.17, 420.16, 425.15, 430.14, 435.13,\n",
       "       440.12, 445.11, 450.1 , 455.09, 460.08, 465.07, 470.06, 475.05,\n",
       "       480.04, 485.03, 490.02, 495.01, 500.  ])"
      ]
     },
     "execution_count": 19,
     "metadata": {},
     "output_type": "execute_result"
    }
   ],
   "source": [
    "# set up model domain for testing\n",
    "# z-axis \n",
    "\n",
    "# meters\n",
    "ice_thickness = 500.\n",
    "crevasse_depth = 2.\n",
    "\n",
    "\n",
    "depth_array = np.linspace(1,ice_thickness,num=101)\n",
    "depth_array\n"
   ]
  },
  {
   "cell_type": "code",
   "execution_count": 21,
   "id": "6a740835-ae69-4913-a04b-99d1473d0f1b",
   "metadata": {},
   "outputs": [],
   "source": [
    "mu=1e9"
   ]
  },
  {
   "cell_type": "code",
   "execution_count": 30,
   "id": "57b8f989-d1e5-4160-8028-0f20da48f65b",
   "metadata": {},
   "outputs": [
    {
     "name": "stderr",
     "output_type": "stream",
     "text": [
      "/Users/jess/models/crevprop/crevprop/fracture.py:247: RuntimeWarning: invalid value encountered in sqrt\n",
      "  return np.sqrt(x**2 - y**2)\n"
     ]
    },
    {
     "data": {
      "text/plain": [
       "array([0.0075562 , 0.00732994, 0.00715734, 0.00706291, 0.00697278,\n",
       "       0.00686427, 0.00672235, 0.0065334 , 0.00628259, 0.00595143,\n",
       "       0.00551411, 0.00492965, 0.00412044, 0.0028813 ,        nan,\n",
       "              nan,        nan,        nan,        nan,        nan,\n",
       "              nan,        nan,        nan,        nan,        nan,\n",
       "              nan,        nan,        nan,        nan,        nan,\n",
       "              nan,        nan,        nan,        nan,        nan,\n",
       "              nan,        nan,        nan,        nan,        nan,\n",
       "              nan,        nan,        nan,        nan,        nan,\n",
       "              nan,        nan,        nan,        nan,        nan,\n",
       "              nan,        nan,        nan,        nan,        nan,\n",
       "              nan,        nan,        nan,        nan,        nan,\n",
       "              nan,        nan,        nan,        nan,        nan,\n",
       "              nan,        nan,        nan,        nan,        nan,\n",
       "              nan,        nan,        nan,        nan,        nan,\n",
       "              nan,        nan,        nan,        nan,        nan,\n",
       "              nan,        nan,        nan,        nan,        nan,\n",
       "              nan,        nan,        nan,        nan,        nan,\n",
       "              nan,        nan,        nan,        nan,        nan,\n",
       "              nan,        nan,        nan,        nan,        nan,\n",
       "              nan])"
      ]
     },
     "execution_count": 30,
     "metadata": {},
     "output_type": "execute_result"
    }
   ],
   "source": [
    "fracture.elastic_displacement(depth_array,120000,mu,70,15*0.5,has_water=True)"
   ]
  },
  {
   "cell_type": "code",
   "execution_count": 33,
   "id": "32247b08-1bb9-410f-89fc-9e39a1356fce",
   "metadata": {},
   "outputs": [
    {
     "name": "stderr",
     "output_type": "stream",
     "text": [
      "/Users/jess/models/crevprop/crevprop/fracture.py:247: RuntimeWarning: invalid value encountered in sqrt\n",
      "  return np.sqrt(x**2 - y**2)\n",
      "/Users/jess/models/crevprop/crevprop/fracture.py:247: RuntimeWarning: invalid value encountered in sqrt\n",
      "  return np.sqrt(x**2 - y**2)\n"
     ]
    },
    {
     "data": {
      "image/png": "[encoded data removed]",
      "text/plain": [
       "<Figure size 432x288 with 1 Axes>"
      ]
     },
     "metadata": {
      "needs_background": "light"
     },
     "output_type": "display_data"
    }
   ],
   "source": [
    "fig=plt.figure()\n",
    "ax=fig.add_subplot(111,xlim=(-.1,.1),ylim=(0,100))\n",
    "ax.plot(fracture.elastic_displacement(depth_array,120000,mu,70,50,has_water=True),depth_array,'.')\n",
    "ax.plot(fracture.elastic_displacement(depth_array,120000,mu,70,50,has_water=True)*-1,depth_array,'.')\n",
    "plt.gca().invert_yaxis()"
   ]
  },
  {
   "cell_type": "code",
   "execution_count": null,
   "id": "85634cf5-ac07-4ae1-a15f-947a29716b34",
   "metadata": {},
   "outputs": [],
   "source": []
  },
  {
   "cell_type": "code",
   "execution_count": null,
   "id": "3cb45a18-fba8-4ec7-a3c3-6b5917b3118d",
   "metadata": {},
   "outputs": [],
   "source": []
  }
 ],
 "metadata": {
  "kernelspec": {
   "display_name": "Python 3 (ipykernel)",
   "language": "python",
   "name": "python3"
  },
  "language_info": {
   "codemirror_mode": {
    "name": "ipython",
    "version": 3
   },
   "file_extension": ".py",
   "mimetype": "text/x-python",
   "name": "python",
   "nbconvert_exporter": "python",
   "pygments_lexer": "ipython3",
   "version": "3.9.7"
  }
 },
 "nbformat": 4,
 "nbformat_minor": 5
}
