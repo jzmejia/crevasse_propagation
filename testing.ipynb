{
 "cells": [
  {
   "cell_type": "code",
<<<<<<< HEAD
   "execution_count": 1,
   "id": "71c95ef7",
=======
   "execution_count": 6,
   "id": "41741790-34ac-4da4-bd2a-f14eab1289be",
>>>>>>> f111166e9a4cbd64e14d7d311eaf7f44298d5e8b
   "metadata": {},
   "outputs": [],
   "source": [
    "\n",
    "import numpy as np\n",
    "import pandas as pd\n",
    "import matplotlib.pyplot as plt\n",
    "\n",
    "import seaborn as sns\n",
    "\n",
    "\n",
    "from crevprop import fracture\n",
    "from crevprop.physical_constants import THERMAL_CONDUCTIVITY_ICE as kappa\n",
    "import crevprop.physical_constants as pconst\n",
    "from crevprop.iceblock import IceBlock, ThermalModel"
   ]
  },
  {
   "cell_type": "code",
   "execution_count": 2,
   "id": "046b7bc4",
   "metadata": {
    "collapsed": true,
    "jupyter": {
     "outputs_hidden": true,
     "source_hidden": true
    },
    "tags": []
   },
   "outputs": [
    {
     "data": {
      "text/plain": [
       "array([  1.  ,   5.99,  10.98,  15.97,  20.96,  25.95,  30.94,  35.93,\n",
       "        40.92,  45.91,  50.9 ,  55.89,  60.88,  65.87,  70.86,  75.85,\n",
       "        80.84,  85.83,  90.82,  95.81, 100.8 , 105.79, 110.78, 115.77,\n",
       "       120.76, 125.75, 130.74, 135.73, 140.72, 145.71, 150.7 , 155.69,\n",
       "       160.68, 165.67, 170.66, 175.65, 180.64, 185.63, 190.62, 195.61,\n",
       "       200.6 , 205.59, 210.58, 215.57, 220.56, 225.55, 230.54, 235.53,\n",
       "       240.52, 245.51, 250.5 , 255.49, 260.48, 265.47, 270.46, 275.45,\n",
       "       280.44, 285.43, 290.42, 295.41, 300.4 , 305.39, 310.38, 315.37,\n",
       "       320.36, 325.35, 330.34, 335.33, 340.32, 345.31, 350.3 , 355.29,\n",
       "       360.28, 365.27, 370.26, 375.25, 380.24, 385.23, 390.22, 395.21,\n",
       "       400.2 , 405.19, 410.18, 415.17, 420.16, 425.15, 430.14, 435.13,\n",
       "       440.12, 445.11, 450.1 , 455.09, 460.08, 465.07, 470.06, 475.05,\n",
       "       480.04, 485.03, 490.02, 495.01, 500.  ])"
      ]
     },
     "execution_count": 2,
     "metadata": {},
     "output_type": "execute_result"
    }
   ],
   "source": [
    "# set up model domain for testing\n",
    "# z-axis \n",
    "\n",
    "# meters\n",
    "ice_thickness = 500.\n",
    "crevasse_depth = 2.\n",
    "\n",
    "\n",
    "depth_array = np.linspace(1,ice_thickness,num=101)\n",
    "depth_array\n"
   ]
  },
  {
   "cell_type": "code",
   "execution_count": 3,
   "id": "59861a73",
   "metadata": {
    "tags": []
   },
   "outputs": [
    {
     "ename": "NameError",
     "evalue": "name 'mu' is not defined",
     "output_type": "error",
     "traceback": [
      "\u001b[0;31m---------------------------------------------------------------------------\u001b[0m",
      "\u001b[0;31mNameError\u001b[0m                                 Traceback (most recent call last)",
      "\u001b[0;32m/var/folders/42/qdgwfmld1zsdty9pbthfwljr0000gn/T/ipykernel_21003/1567735714.py\u001b[0m in \u001b[0;36m<module>\u001b[0;34m\u001b[0m\n\u001b[1;32m      1\u001b[0m \u001b[0mfig\u001b[0m\u001b[0;34m=\u001b[0m\u001b[0mplt\u001b[0m\u001b[0;34m.\u001b[0m\u001b[0mfigure\u001b[0m\u001b[0;34m(\u001b[0m\u001b[0;34m)\u001b[0m\u001b[0;34m\u001b[0m\u001b[0;34m\u001b[0m\u001b[0m\n\u001b[1;32m      2\u001b[0m \u001b[0max\u001b[0m\u001b[0;34m=\u001b[0m\u001b[0mfig\u001b[0m\u001b[0;34m.\u001b[0m\u001b[0madd_subplot\u001b[0m\u001b[0;34m(\u001b[0m\u001b[0;36m111\u001b[0m\u001b[0;34m,\u001b[0m\u001b[0mxlim\u001b[0m\u001b[0;34m=\u001b[0m\u001b[0;34m(\u001b[0m\u001b[0;34m-\u001b[0m\u001b[0;36m.1\u001b[0m\u001b[0;34m,\u001b[0m\u001b[0;36m.1\u001b[0m\u001b[0;34m)\u001b[0m\u001b[0;34m,\u001b[0m\u001b[0mylim\u001b[0m\u001b[0;34m=\u001b[0m\u001b[0;34m(\u001b[0m\u001b[0;36m0\u001b[0m\u001b[0;34m,\u001b[0m\u001b[0;36m100\u001b[0m\u001b[0;34m)\u001b[0m\u001b[0;34m)\u001b[0m\u001b[0;34m\u001b[0m\u001b[0;34m\u001b[0m\u001b[0m\n\u001b[0;32m----> 3\u001b[0;31m \u001b[0max\u001b[0m\u001b[0;34m.\u001b[0m\u001b[0mplot\u001b[0m\u001b[0;34m(\u001b[0m\u001b[0mfracture\u001b[0m\u001b[0;34m.\u001b[0m\u001b[0melastic_displacement\u001b[0m\u001b[0;34m(\u001b[0m\u001b[0mdepth_array\u001b[0m\u001b[0;34m,\u001b[0m\u001b[0;36m120000\u001b[0m\u001b[0;34m,\u001b[0m\u001b[0mmu\u001b[0m\u001b[0;34m,\u001b[0m\u001b[0;36m70\u001b[0m\u001b[0;34m,\u001b[0m\u001b[0;36m50\u001b[0m\u001b[0;34m,\u001b[0m\u001b[0mhas_water\u001b[0m\u001b[0;34m=\u001b[0m\u001b[0;32mTrue\u001b[0m\u001b[0;34m)\u001b[0m\u001b[0;34m,\u001b[0m\u001b[0mdepth_array\u001b[0m\u001b[0;34m,\u001b[0m\u001b[0;34m'.'\u001b[0m\u001b[0;34m)\u001b[0m\u001b[0;34m\u001b[0m\u001b[0;34m\u001b[0m\u001b[0m\n\u001b[0m\u001b[1;32m      4\u001b[0m \u001b[0max\u001b[0m\u001b[0;34m.\u001b[0m\u001b[0mplot\u001b[0m\u001b[0;34m(\u001b[0m\u001b[0mfracture\u001b[0m\u001b[0;34m.\u001b[0m\u001b[0melastic_displacement\u001b[0m\u001b[0;34m(\u001b[0m\u001b[0mdepth_array\u001b[0m\u001b[0;34m,\u001b[0m\u001b[0;36m120000\u001b[0m\u001b[0;34m,\u001b[0m\u001b[0mmu\u001b[0m\u001b[0;34m,\u001b[0m\u001b[0;36m70\u001b[0m\u001b[0;34m,\u001b[0m\u001b[0;36m50\u001b[0m\u001b[0;34m,\u001b[0m\u001b[0mhas_water\u001b[0m\u001b[0;34m=\u001b[0m\u001b[0;32mTrue\u001b[0m\u001b[0;34m)\u001b[0m\u001b[0;34m*\u001b[0m\u001b[0;34m-\u001b[0m\u001b[0;36m1\u001b[0m\u001b[0;34m,\u001b[0m\u001b[0mdepth_array\u001b[0m\u001b[0;34m,\u001b[0m\u001b[0;34m'.'\u001b[0m\u001b[0;34m)\u001b[0m\u001b[0;34m\u001b[0m\u001b[0;34m\u001b[0m\u001b[0m\n\u001b[1;32m      5\u001b[0m \u001b[0mplt\u001b[0m\u001b[0;34m.\u001b[0m\u001b[0mgca\u001b[0m\u001b[0;34m(\u001b[0m\u001b[0;34m)\u001b[0m\u001b[0;34m.\u001b[0m\u001b[0minvert_yaxis\u001b[0m\u001b[0;34m(\u001b[0m\u001b[0;34m)\u001b[0m\u001b[0;34m\u001b[0m\u001b[0;34m\u001b[0m\u001b[0m\n",
      "\u001b[0;31mNameError\u001b[0m: name 'mu' is not defined"
     ]
    },
    {
     "data": {
      "image/png": "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\n",
      "text/plain": [
       "<Figure size 432x288 with 1 Axes>"
      ]
     },
     "metadata": {
      "needs_background": "light"
     },
     "output_type": "display_data"
    }
   ],
   "source": [
    "fig=plt.figure()\n",
    "ax=fig.add_subplot(111,xlim=(-.1,.1),ylim=(0,100))\n",
    "ax.plot(fracture.elastic_displacement(depth_array,120000,mu,70,50,has_water=True),depth_array,'.')\n",
    "ax.plot(fracture.elastic_displacement(depth_array,120000,mu,70,50,has_water=True)*-1,depth_array,'.')\n",
    "plt.gca().invert_yaxis()"
   ]
  },
  {
   "cell_type": "markdown",
   "id": "b85e5591",
   "metadata": {},
   "source": [
    "Working on creating the temperature matrix and matrix inversion\n",
    "\n",
    "Ac=T -> c=A'T"
   ]
  },
  {
   "cell_type": "code",
   "execution_count": 4,
   "id": "c3a2df8e",
   "metadata": {
    "tags": []
   },
   "outputs": [
    {
     "data": {
      "text/plain": [
       "array([[1., 0., 0., 0., 0., 0., 0., 0., 0., 0., 0., 0., 0., 0., 0., 0.],\n",
       "       [0., 1., 0., 0., 0., 0., 0., 0., 0., 0., 0., 0., 0., 0., 0., 0.],\n",
       "       [0., 0., 1., 0., 0., 0., 0., 0., 0., 0., 0., 0., 0., 0., 0., 0.],\n",
       "       [0., 0., 0., 1., 0., 0., 0., 0., 0., 0., 0., 0., 0., 0., 0., 0.],\n",
       "       [0., 0., 0., 0., 1., 0., 0., 0., 0., 0., 0., 0., 0., 0., 0., 0.],\n",
       "       [0., 0., 0., 0., 0., 1., 0., 0., 0., 0., 0., 0., 0., 0., 0., 0.],\n",
       "       [0., 0., 0., 0., 0., 0., 1., 0., 0., 0., 0., 0., 0., 0., 0., 0.],\n",
       "       [0., 0., 0., 0., 0., 0., 0., 1., 0., 0., 0., 0., 0., 0., 0., 0.],\n",
       "       [0., 0., 0., 0., 0., 0., 0., 0., 1., 0., 0., 0., 0., 0., 0., 0.],\n",
       "       [0., 0., 0., 0., 0., 0., 0., 0., 0., 1., 0., 0., 0., 0., 0., 0.],\n",
       "       [0., 0., 0., 0., 0., 0., 0., 0., 0., 0., 1., 0., 0., 0., 0., 0.],\n",
       "       [0., 0., 0., 0., 0., 0., 0., 0., 0., 0., 0., 1., 0., 0., 0., 0.],\n",
       "       [0., 0., 0., 0., 0., 0., 0., 0., 0., 0., 0., 0., 1., 0., 0., 0.],\n",
       "       [0., 0., 0., 0., 0., 0., 0., 0., 0., 0., 0., 0., 0., 1., 0., 0.],\n",
       "       [0., 0., 0., 0., 0., 0., 0., 0., 0., 0., 0., 0., 0., 0., 1., 0.],\n",
       "       [0., 0., 0., 0., 0., 0., 0., 0., 0., 0., 0., 0., 0., 0., 0., 1.]])"
      ]
     },
     "execution_count": 4,
     "metadata": {},
     "output_type": "execute_result"
    }
   ],
   "source": [
    "ice_thickness = 1000.\n",
    "dt = 3600. * 12.\n",
    "dx = np.sqrt(kappa*dt)\n",
    "dz = 5\n",
    "sx = kappa*dt/dx**2\n",
    "sz = kappa*dt/dz**2\n",
    "\n",
    "\n",
    "np.identity(16)\n"
   ]
  },
  {
   "cell_type": "code",
   "execution_count": null,
   "id": "e00c6e17",
   "metadata": {
    "jupyter": {
     "source_hidden": true
    },
    "tags": []
   },
   "outputs": [],
   "source": []
  },
  {
   "cell_type": "markdown",
   "id": "b08e30b8",
   "metadata": {},
   "source": [
    "## Testing iceblock.py"
   ]
  },
  {
   "cell_type": "code",
   "execution_count": 2,
   "id": "d167b8de",
   "metadata": {},
   "outputs": [],
   "source": [
    "tprof = pd.read_csv('./data/foxxTemperatureProfile.csv',names=[\"T\",\"z\"])"
   ]
  },
  {
   "cell_type": "code",
   "execution_count": 3,
   "id": "eb6d316c",
   "metadata": {},
   "outputs": [],
   "source": [
    "ib = IceBlock(600,1,1,100/3,0.5,10)\n",
    "tmod = ThermalModel(600,ib.length,ib.dt_T,1,tprof)"
   ]
  },
  {
   "cell_type": "code",
<<<<<<< HEAD
   "execution_count": 13,
   "id": "63a981dc",
=======
   "execution_count": 4,
   "id": "9f2c3dc7-d822-4eb5-910a-d071a92d0f1d",
>>>>>>> f111166e9a4cbd64e14d7d311eaf7f44298d5e8b
   "metadata": {},
   "outputs": [
    {
     "data": {
      "text/plain": [
       "(601, 196)"
      ]
     },
<<<<<<< HEAD
     "execution_count": 13,
=======
     "execution_count": 4,
>>>>>>> f111166e9a4cbd64e14d7d311eaf7f44298d5e8b
     "metadata": {},
     "output_type": "execute_result"
    }
   ],
   "source": [
    "tmod.T.shape"
   ]
  },
  {
   "cell_type": "code",
<<<<<<< HEAD
   "execution_count": 10,
   "id": "554204bd",
=======
   "execution_count": null,
   "id": "69a20b8c-301a-4b9c-a589-7c7b6f1f6e86",
   "metadata": {},
   "outputs": [],
   "source": []
  },
  {
   "cell_type": "code",
   "execution_count": 54,
   "id": "b61cfa6b-7604-4591-adae-9bef446719c2",
   "metadata": {},
   "outputs": [
    {
     "data": {
      "image/png": "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\n",
      "text/plain": [
       "<Figure size 720x360 with 2 Axes>"
      ]
     },
     "metadata": {
      "needs_background": "light"
     },
     "output_type": "display_data"
    }
   ],
   "source": [
    "Tdf=pd.DataFrame(data=tmod.T,index=tmod.z,columns=np.round(tmod.x))\n",
    "fig=plt.figure(figsize=(10,5))\n",
    "sns.heatmap(Tdf[::-1],\n",
    "            cmap=sns.diverging_palette(230, 20, as_cmap=True), center=0\n",
    "            )\n",
    "plt.ylabel('z')\n",
    "plt.xlabel('x')\n",
    "plt.title(\"Ice Temperature at t=0\")\n",
    "fig.savefig('/Users/jess/models/crevprop/ice_temperature.png')"
   ]
  },
  {
   "cell_type": "code",
   "execution_count": 71,
   "id": "c30bd9ba-2a6a-4a9e-a5ae-727f6127b0a6",
>>>>>>> f111166e9a4cbd64e14d7d311eaf7f44298d5e8b
   "metadata": {},
   "outputs": [
    {
     "data": {
      "text/plain": [
<<<<<<< HEAD
       "[<matplotlib.lines.Line2D at 0x7fc33a119278>]"
      ]
     },
     "execution_count": 10,
     "metadata": {},
     "output_type": "execute_result"
    },
    {
     "data": {
      "image/png": "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\n",
      "text/plain": [
       "<Figure size 288x720 with 1 Axes>"
      ]
     },
     "metadata": {
      "needs_background": "light"
     },
     "output_type": "display_data"
    }
   ],
   "source": [
    "plt.figure(figsize=(4,10))\n",
    "plt.plot(tmod.T_upglacier,tmod.z)"
   ]
  },
  {
   "cell_type": "code",
   "execution_count": 5,
   "id": "97693b03",
   "metadata": {},
   "outputs": [
    {
     "data": {
      "text/plain": [
       "(601, 196)"
      ]
     },
     "execution_count": 5,
=======
       "Int64Index([-600, -599, -598, -597, -596, -595, -594, -593, -592, -591,\n",
       "            ...\n",
       "              -9,   -8,   -7,   -6,   -5,   -4,   -3,   -2,   -1,    0],\n",
       "           dtype='int64', name='z', length=601)"
      ]
     },
     "execution_count": 71,
>>>>>>> f111166e9a4cbd64e14d7d311eaf7f44298d5e8b
     "metadata": {},
     "output_type": "execute_result"
    }
   ],
   "source": [
    "Tdf.index.rename('z',inplace=True)\n",
    "Tdf.index"
   ]
  },
  {
   "cell_type": "code",
<<<<<<< HEAD
   "execution_count": 11,
   "id": "24602360",
=======
   "execution_count": 80,
   "id": "43351666-1569-45b9-8d29-e10ecae75dc4",
>>>>>>> f111166e9a4cbd64e14d7d311eaf7f44298d5e8b
   "metadata": {},
   "outputs": [
    {
     "data": {
      "text/plain": [
       "<memory at 0x16b0811c0>"
      ]
     },
     "execution_count": 80,
     "metadata": {},
     "output_type": "execute_result"
    }
   ],
   "source": [
    "np.arange(-600,5,5).data"
   ]
  },
  {
   "cell_type": "code",
<<<<<<< HEAD
   "execution_count": 12,
   "id": "423ffd06",
=======
   "execution_count": 110,
   "id": "306d7524-5692-4db0-ab46-b48797ec1e68",
   "metadata": {},
   "outputs": [
    {
     "name": "stderr",
     "output_type": "stream",
     "text": [
      "/var/folders/42/qdgwfmld1zsdty9pbthfwljr0000gn/T/ipykernel_36643/3057012389.py:1: DeprecationWarning: elementwise comparison failed; this will raise an error in the future.\n",
      "  np.where(tmod.z in tmod.z[::5])\n"
     ]
    },
    {
     "data": {
      "text/plain": [
       "(array([], dtype=int64),)"
      ]
     },
     "execution_count": 110,
     "metadata": {},
     "output_type": "execute_result"
    }
   ],
   "source": [
    "np.where(tmod.z in tmod.z[::5])"
   ]
  },
  {
   "cell_type": "code",
   "execution_count": 128,
   "id": "4bc171f0-8e64-4c9f-951c-08ae10f50e0a",
   "metadata": {},
   "outputs": [
    {
     "data": {
      "text/html": [
       "<div>\n",
       "<style scoped>\n",
       "    .dataframe tbody tr th:only-of-type {\n",
       "        vertical-align: middle;\n",
       "    }\n",
       "\n",
       "    .dataframe tbody tr th {\n",
       "        vertical-align: top;\n",
       "    }\n",
       "\n",
       "    .dataframe thead th {\n",
       "        text-align: right;\n",
       "    }\n",
       "</style>\n",
       "<table border=\"1\" class=\"dataframe\">\n",
       "  <thead>\n",
       "    <tr style=\"text-align: right;\">\n",
       "      <th></th>\n",
       "      <th>-134.0</th>\n",
       "      <th>-133.0</th>\n",
       "      <th>-133.0</th>\n",
       "      <th>-132.0</th>\n",
       "      <th>-131.0</th>\n",
       "      <th>-131.0</th>\n",
       "      <th>-130.0</th>\n",
       "      <th>-129.0</th>\n",
       "      <th>-129.0</th>\n",
       "      <th>-128.0</th>\n",
       "      <th>...</th>\n",
       "      <th>-6.0</th>\n",
       "      <th>-5.0</th>\n",
       "      <th>-5.0</th>\n",
       "      <th>-4.0</th>\n",
       "      <th>-3.0</th>\n",
       "      <th>-3.0</th>\n",
       "      <th>-2.0</th>\n",
       "      <th>-1.0</th>\n",
       "      <th>-1.0</th>\n",
       "      <th>0.0</th>\n",
       "    </tr>\n",
       "    <tr>\n",
       "      <th>z</th>\n",
       "      <th></th>\n",
       "      <th></th>\n",
       "      <th></th>\n",
       "      <th></th>\n",
       "      <th></th>\n",
       "      <th></th>\n",
       "      <th></th>\n",
       "      <th></th>\n",
       "      <th></th>\n",
       "      <th></th>\n",
       "      <th></th>\n",
       "      <th></th>\n",
       "      <th></th>\n",
       "      <th></th>\n",
       "      <th></th>\n",
       "      <th></th>\n",
       "      <th></th>\n",
       "      <th></th>\n",
       "      <th></th>\n",
       "      <th></th>\n",
       "      <th></th>\n",
       "    </tr>\n",
       "  </thead>\n",
       "  <tbody>\n",
       "    <tr>\n",
       "      <th>-600</th>\n",
       "      <td>0.000000</td>\n",
       "      <td>0.000000</td>\n",
       "      <td>0.000000</td>\n",
       "      <td>0.000000</td>\n",
       "      <td>0.000000</td>\n",
       "      <td>0.000000</td>\n",
       "      <td>0.000000</td>\n",
       "      <td>0.000000</td>\n",
       "      <td>0.000000</td>\n",
       "      <td>0.000000</td>\n",
       "      <td>...</td>\n",
       "      <td>0.000000</td>\n",
       "      <td>0.000000</td>\n",
       "      <td>0.000000</td>\n",
       "      <td>0.000000</td>\n",
       "      <td>0.000000</td>\n",
       "      <td>0.000000</td>\n",
       "      <td>0.000000</td>\n",
       "      <td>0.000000</td>\n",
       "      <td>0.000000</td>\n",
       "      <td>0.000000</td>\n",
       "    </tr>\n",
       "    <tr>\n",
       "      <th>-595</th>\n",
       "      <td>-0.775714</td>\n",
       "      <td>-0.775675</td>\n",
       "      <td>-0.775635</td>\n",
       "      <td>-0.775595</td>\n",
       "      <td>-0.775555</td>\n",
       "      <td>-0.775515</td>\n",
       "      <td>-0.775476</td>\n",
       "      <td>-0.775436</td>\n",
       "      <td>-0.775396</td>\n",
       "      <td>-0.775356</td>\n",
       "      <td>...</td>\n",
       "      <td>-0.768315</td>\n",
       "      <td>-0.768275</td>\n",
       "      <td>-0.768236</td>\n",
       "      <td>-0.768196</td>\n",
       "      <td>-0.768156</td>\n",
       "      <td>-0.768116</td>\n",
       "      <td>-0.768076</td>\n",
       "      <td>-0.768037</td>\n",
       "      <td>-0.767997</td>\n",
       "      <td>-0.767957</td>\n",
       "    </tr>\n",
       "    <tr>\n",
       "      <th>-590</th>\n",
       "      <td>-0.990000</td>\n",
       "      <td>-0.989949</td>\n",
       "      <td>-0.989898</td>\n",
       "      <td>-0.989848</td>\n",
       "      <td>-0.989797</td>\n",
       "      <td>-0.989746</td>\n",
       "      <td>-0.989695</td>\n",
       "      <td>-0.989645</td>\n",
       "      <td>-0.989594</td>\n",
       "      <td>-0.989543</td>\n",
       "      <td>...</td>\n",
       "      <td>-0.980557</td>\n",
       "      <td>-0.980506</td>\n",
       "      <td>-0.980455</td>\n",
       "      <td>-0.980405</td>\n",
       "      <td>-0.980354</td>\n",
       "      <td>-0.980303</td>\n",
       "      <td>-0.980252</td>\n",
       "      <td>-0.980202</td>\n",
       "      <td>-0.980151</td>\n",
       "      <td>-0.980100</td>\n",
       "    </tr>\n",
       "    <tr>\n",
       "      <th>-585</th>\n",
       "      <td>-1.204286</td>\n",
       "      <td>-1.204224</td>\n",
       "      <td>-1.204162</td>\n",
       "      <td>-1.204100</td>\n",
       "      <td>-1.204039</td>\n",
       "      <td>-1.203977</td>\n",
       "      <td>-1.203915</td>\n",
       "      <td>-1.203853</td>\n",
       "      <td>-1.203792</td>\n",
       "      <td>-1.203730</td>\n",
       "      <td>...</td>\n",
       "      <td>-1.192799</td>\n",
       "      <td>-1.192737</td>\n",
       "      <td>-1.192675</td>\n",
       "      <td>-1.192613</td>\n",
       "      <td>-1.192552</td>\n",
       "      <td>-1.192490</td>\n",
       "      <td>-1.192428</td>\n",
       "      <td>-1.192366</td>\n",
       "      <td>-1.192305</td>\n",
       "      <td>-1.192243</td>\n",
       "    </tr>\n",
       "    <tr>\n",
       "      <th>-580</th>\n",
       "      <td>-1.426452</td>\n",
       "      <td>-1.426378</td>\n",
       "      <td>-1.426305</td>\n",
       "      <td>-1.426232</td>\n",
       "      <td>-1.426159</td>\n",
       "      <td>-1.426086</td>\n",
       "      <td>-1.426013</td>\n",
       "      <td>-1.425940</td>\n",
       "      <td>-1.425866</td>\n",
       "      <td>-1.425793</td>\n",
       "      <td>...</td>\n",
       "      <td>-1.412845</td>\n",
       "      <td>-1.412772</td>\n",
       "      <td>-1.412699</td>\n",
       "      <td>-1.412626</td>\n",
       "      <td>-1.412553</td>\n",
       "      <td>-1.412480</td>\n",
       "      <td>-1.412407</td>\n",
       "      <td>-1.412333</td>\n",
       "      <td>-1.412260</td>\n",
       "      <td>-1.412187</td>\n",
       "    </tr>\n",
       "    <tr>\n",
       "      <th>...</th>\n",
       "      <td>...</td>\n",
       "      <td>...</td>\n",
       "      <td>...</td>\n",
       "      <td>...</td>\n",
       "      <td>...</td>\n",
       "      <td>...</td>\n",
       "      <td>...</td>\n",
       "      <td>...</td>\n",
       "      <td>...</td>\n",
       "      <td>...</td>\n",
       "      <td>...</td>\n",
       "      <td>...</td>\n",
       "      <td>...</td>\n",
       "      <td>...</td>\n",
       "      <td>...</td>\n",
       "      <td>...</td>\n",
       "      <td>...</td>\n",
       "      <td>...</td>\n",
       "      <td>...</td>\n",
       "      <td>...</td>\n",
       "      <td>...</td>\n",
       "    </tr>\n",
       "    <tr>\n",
       "      <th>-20</th>\n",
       "      <td>-2.602440</td>\n",
       "      <td>-2.602306</td>\n",
       "      <td>-2.602173</td>\n",
       "      <td>-2.602039</td>\n",
       "      <td>-2.601906</td>\n",
       "      <td>-2.601772</td>\n",
       "      <td>-2.601639</td>\n",
       "      <td>-2.601505</td>\n",
       "      <td>-2.601372</td>\n",
       "      <td>-2.601238</td>\n",
       "      <td>...</td>\n",
       "      <td>-2.577616</td>\n",
       "      <td>-2.577483</td>\n",
       "      <td>-2.577349</td>\n",
       "      <td>-2.577216</td>\n",
       "      <td>-2.577082</td>\n",
       "      <td>-2.576949</td>\n",
       "      <td>-2.576816</td>\n",
       "      <td>-2.576682</td>\n",
       "      <td>-2.576549</td>\n",
       "      <td>-2.576415</td>\n",
       "    </tr>\n",
       "    <tr>\n",
       "      <th>-15</th>\n",
       "      <td>-2.994548</td>\n",
       "      <td>-2.994395</td>\n",
       "      <td>-2.994241</td>\n",
       "      <td>-2.994088</td>\n",
       "      <td>-2.993934</td>\n",
       "      <td>-2.993781</td>\n",
       "      <td>-2.993627</td>\n",
       "      <td>-2.993473</td>\n",
       "      <td>-2.993320</td>\n",
       "      <td>-2.993166</td>\n",
       "      <td>...</td>\n",
       "      <td>-2.965985</td>\n",
       "      <td>-2.965831</td>\n",
       "      <td>-2.965678</td>\n",
       "      <td>-2.965524</td>\n",
       "      <td>-2.965371</td>\n",
       "      <td>-2.965217</td>\n",
       "      <td>-2.965064</td>\n",
       "      <td>-2.964910</td>\n",
       "      <td>-2.964756</td>\n",
       "      <td>-2.964603</td>\n",
       "    </tr>\n",
       "    <tr>\n",
       "      <th>-10</th>\n",
       "      <td>-3.299174</td>\n",
       "      <td>-3.299005</td>\n",
       "      <td>-3.298836</td>\n",
       "      <td>-3.298666</td>\n",
       "      <td>-3.298497</td>\n",
       "      <td>-3.298328</td>\n",
       "      <td>-3.298159</td>\n",
       "      <td>-3.297990</td>\n",
       "      <td>-3.297821</td>\n",
       "      <td>-3.297651</td>\n",
       "      <td>...</td>\n",
       "      <td>-3.267705</td>\n",
       "      <td>-3.267536</td>\n",
       "      <td>-3.267367</td>\n",
       "      <td>-3.267197</td>\n",
       "      <td>-3.267028</td>\n",
       "      <td>-3.266859</td>\n",
       "      <td>-3.266690</td>\n",
       "      <td>-3.266521</td>\n",
       "      <td>-3.266351</td>\n",
       "      <td>-3.266182</td>\n",
       "    </tr>\n",
       "    <tr>\n",
       "      <th>-5</th>\n",
       "      <td>-3.537001</td>\n",
       "      <td>-3.536819</td>\n",
       "      <td>-3.536638</td>\n",
       "      <td>-3.536457</td>\n",
       "      <td>-3.536275</td>\n",
       "      <td>-3.536094</td>\n",
       "      <td>-3.535912</td>\n",
       "      <td>-3.535731</td>\n",
       "      <td>-3.535550</td>\n",
       "      <td>-3.535368</td>\n",
       "      <td>...</td>\n",
       "      <td>-3.503263</td>\n",
       "      <td>-3.503082</td>\n",
       "      <td>-3.502900</td>\n",
       "      <td>-3.502719</td>\n",
       "      <td>-3.502538</td>\n",
       "      <td>-3.502356</td>\n",
       "      <td>-3.502175</td>\n",
       "      <td>-3.501993</td>\n",
       "      <td>-3.501812</td>\n",
       "      <td>-3.501631</td>\n",
       "    </tr>\n",
       "    <tr>\n",
       "      <th>0</th>\n",
       "      <td>-3.612901</td>\n",
       "      <td>-3.612716</td>\n",
       "      <td>-3.612531</td>\n",
       "      <td>-3.612345</td>\n",
       "      <td>-3.612160</td>\n",
       "      <td>-3.611975</td>\n",
       "      <td>-3.611790</td>\n",
       "      <td>-3.611604</td>\n",
       "      <td>-3.611419</td>\n",
       "      <td>-3.611234</td>\n",
       "      <td>...</td>\n",
       "      <td>-3.578440</td>\n",
       "      <td>-3.578255</td>\n",
       "      <td>-3.578069</td>\n",
       "      <td>-3.577884</td>\n",
       "      <td>-3.577699</td>\n",
       "      <td>-3.577513</td>\n",
       "      <td>-3.577328</td>\n",
       "      <td>-3.577143</td>\n",
       "      <td>-3.576958</td>\n",
       "      <td>-3.576772</td>\n",
       "    </tr>\n",
       "  </tbody>\n",
       "</table>\n",
       "<p>121 rows × 196 columns</p>\n",
       "</div>"
      ],
      "text/plain": [
       "        -134.0    -133.0    -133.0    -132.0    -131.0    -131.0    -130.0  \\\n",
       "z                                                                            \n",
       "-600  0.000000  0.000000  0.000000  0.000000  0.000000  0.000000  0.000000   \n",
       "-595 -0.775714 -0.775675 -0.775635 -0.775595 -0.775555 -0.775515 -0.775476   \n",
       "-590 -0.990000 -0.989949 -0.989898 -0.989848 -0.989797 -0.989746 -0.989695   \n",
       "-585 -1.204286 -1.204224 -1.204162 -1.204100 -1.204039 -1.203977 -1.203915   \n",
       "-580 -1.426452 -1.426378 -1.426305 -1.426232 -1.426159 -1.426086 -1.426013   \n",
       "...        ...       ...       ...       ...       ...       ...       ...   \n",
       "-20  -2.602440 -2.602306 -2.602173 -2.602039 -2.601906 -2.601772 -2.601639   \n",
       "-15  -2.994548 -2.994395 -2.994241 -2.994088 -2.993934 -2.993781 -2.993627   \n",
       "-10  -3.299174 -3.299005 -3.298836 -3.298666 -3.298497 -3.298328 -3.298159   \n",
       "-5   -3.537001 -3.536819 -3.536638 -3.536457 -3.536275 -3.536094 -3.535912   \n",
       " 0   -3.612901 -3.612716 -3.612531 -3.612345 -3.612160 -3.611975 -3.611790   \n",
       "\n",
       "        -129.0    -129.0    -128.0  ...    -6.0      -5.0      -5.0    \\\n",
       "z                                   ...                                 \n",
       "-600  0.000000  0.000000  0.000000  ...  0.000000  0.000000  0.000000   \n",
       "-595 -0.775436 -0.775396 -0.775356  ... -0.768315 -0.768275 -0.768236   \n",
       "-590 -0.989645 -0.989594 -0.989543  ... -0.980557 -0.980506 -0.980455   \n",
       "-585 -1.203853 -1.203792 -1.203730  ... -1.192799 -1.192737 -1.192675   \n",
       "-580 -1.425940 -1.425866 -1.425793  ... -1.412845 -1.412772 -1.412699   \n",
       "...        ...       ...       ...  ...       ...       ...       ...   \n",
       "-20  -2.601505 -2.601372 -2.601238  ... -2.577616 -2.577483 -2.577349   \n",
       "-15  -2.993473 -2.993320 -2.993166  ... -2.965985 -2.965831 -2.965678   \n",
       "-10  -3.297990 -3.297821 -3.297651  ... -3.267705 -3.267536 -3.267367   \n",
       "-5   -3.535731 -3.535550 -3.535368  ... -3.503263 -3.503082 -3.502900   \n",
       " 0   -3.611604 -3.611419 -3.611234  ... -3.578440 -3.578255 -3.578069   \n",
       "\n",
       "        -4.0      -3.0      -3.0      -2.0      -1.0      -1.0       0.0    \n",
       "z                                                                           \n",
       "-600  0.000000  0.000000  0.000000  0.000000  0.000000  0.000000  0.000000  \n",
       "-595 -0.768196 -0.768156 -0.768116 -0.768076 -0.768037 -0.767997 -0.767957  \n",
       "-590 -0.980405 -0.980354 -0.980303 -0.980252 -0.980202 -0.980151 -0.980100  \n",
       "-585 -1.192613 -1.192552 -1.192490 -1.192428 -1.192366 -1.192305 -1.192243  \n",
       "-580 -1.412626 -1.412553 -1.412480 -1.412407 -1.412333 -1.412260 -1.412187  \n",
       "...        ...       ...       ...       ...       ...       ...       ...  \n",
       "-20  -2.577216 -2.577082 -2.576949 -2.576816 -2.576682 -2.576549 -2.576415  \n",
       "-15  -2.965524 -2.965371 -2.965217 -2.965064 -2.964910 -2.964756 -2.964603  \n",
       "-10  -3.267197 -3.267028 -3.266859 -3.266690 -3.266521 -3.266351 -3.266182  \n",
       "-5   -3.502719 -3.502538 -3.502356 -3.502175 -3.501993 -3.501812 -3.501631  \n",
       " 0   -3.577884 -3.577699 -3.577513 -3.577328 -3.577143 -3.576958 -3.576772  \n",
       "\n",
       "[121 rows x 196 columns]"
      ]
     },
     "execution_count": 128,
     "metadata": {},
     "output_type": "execute_result"
    }
   ],
   "source": [
    "Tdf[Tdf.index.isin(tmod.z[::5].tolist())]\n"
   ]
  },
  {
   "cell_type": "code",
   "execution_count": null,
   "id": "a433370f-f0c2-4008-a1af-c23ffcd68133",
   "metadata": {},
   "outputs": [],
   "source": [
    "\n"
   ]
  },
  {
   "cell_type": "code",
   "execution_count": 23,
   "id": "f64c65a0-7361-4d7e-bc86-c0d02588775d",
>>>>>>> f111166e9a4cbd64e14d7d311eaf7f44298d5e8b
   "metadata": {},
   "outputs": [
    {
     "data": {
      "text/plain": [
       "array([-134.02, -133.33, -132.65, -131.96, -131.27, -130.58, -129.9 ,\n",
       "       -129.21, -128.52, -127.84, -127.15, -126.46, -125.77, -125.09,\n",
       "       -124.4 , -123.71, -123.02, -122.34, -121.65, -120.96, -120.27,\n",
       "       -119.59, -118.9 , -118.21, -117.53, -116.84, -116.15, -115.46,\n",
       "       -114.78, -114.09, -113.4 , -112.71, -112.03, -111.34, -110.65,\n",
       "       -109.97, -109.28, -108.59, -107.9 , -107.22, -106.53, -105.84,\n",
       "       -105.15, -104.47, -103.78, -103.09, -102.41, -101.72, -101.03,\n",
       "       -100.34,  -99.66,  -98.97,  -98.28,  -97.59,  -96.91,  -96.22,\n",
       "        -95.53,  -94.85,  -94.16,  -93.47,  -92.78,  -92.1 ,  -91.41,\n",
       "        -90.72,  -90.03,  -89.35,  -88.66,  -87.97,  -87.29,  -86.6 ,\n",
       "        -85.91,  -85.22,  -84.54,  -83.85,  -83.16,  -82.47,  -81.79,\n",
       "        -81.1 ,  -80.41,  -79.73,  -79.04,  -78.35,  -77.66,  -76.98,\n",
       "        -76.29,  -75.6 ,  -74.91,  -74.23,  -73.54,  -72.85,  -72.16,\n",
       "        -71.48,  -70.79,  -70.1 ,  -69.42,  -68.73,  -68.04,  -67.35,\n",
       "        -66.67,  -65.98,  -65.29,  -64.6 ,  -63.92,  -63.23,  -62.54,\n",
       "        -61.86,  -61.17,  -60.48,  -59.79,  -59.11,  -58.42,  -57.73,\n",
       "        -57.04,  -56.36,  -55.67,  -54.98,  -54.3 ,  -53.61,  -52.92,\n",
       "        -52.23,  -51.55,  -50.86,  -50.17,  -49.48,  -48.8 ,  -48.11,\n",
       "        -47.42,  -46.74,  -46.05,  -45.36,  -44.67,  -43.99,  -43.3 ,\n",
       "        -42.61,  -41.92,  -41.24,  -40.55,  -39.86,  -39.18,  -38.49,\n",
       "        -37.8 ,  -37.11,  -36.43,  -35.74,  -35.05,  -34.36,  -33.68,\n",
       "        -32.99,  -32.3 ,  -31.62,  -30.93,  -30.24,  -29.55,  -28.87,\n",
       "        -28.18,  -27.49,  -26.8 ,  -26.12,  -25.43,  -24.74,  -24.05,\n",
       "        -23.37,  -22.68,  -21.99,  -21.31,  -20.62,  -19.93,  -19.24,\n",
       "        -18.56,  -17.87,  -17.18,  -16.49,  -15.81,  -15.12,  -14.43,\n",
       "        -13.75,  -13.06,  -12.37,  -11.68,  -11.  ,  -10.31,   -9.62,\n",
       "         -8.93,   -8.25,   -7.56,   -6.87,   -6.19,   -5.5 ,   -4.81,\n",
       "         -4.12,   -3.44,   -2.75,   -2.06,   -1.37,   -0.69,    0.  ])"
      ]
     },
     "execution_count": 23,
     "metadata": {},
     "output_type": "execute_result"
    }
   ],
   "source": [
    "np.round(tmod.x,2)"
   ]
  },
  {
   "cell_type": "code",
<<<<<<< HEAD
   "execution_count": 5,
   "id": "5fd1c322",
=======
   "execution_count": 15,
   "id": "66a76f42-128b-428c-a2f8-c535bfbf6c7b",
   "metadata": {},
   "outputs": [
    {
     "data": {
      "text/html": [
       "<div>\n",
       "<style scoped>\n",
       "    .dataframe tbody tr th:only-of-type {\n",
       "        vertical-align: middle;\n",
       "    }\n",
       "\n",
       "    .dataframe tbody tr th {\n",
       "        vertical-align: top;\n",
       "    }\n",
       "\n",
       "    .dataframe thead th {\n",
       "        text-align: right;\n",
       "    }\n",
       "</style>\n",
       "<table border=\"1\" class=\"dataframe\">\n",
       "  <thead>\n",
       "    <tr style=\"text-align: right;\">\n",
       "      <th></th>\n",
       "      <th>-134.020619</th>\n",
       "      <th>-133.333333</th>\n",
       "      <th>-132.646048</th>\n",
       "      <th>-131.958763</th>\n",
       "      <th>-131.271478</th>\n",
       "      <th>-130.584192</th>\n",
       "      <th>-129.896907</th>\n",
       "      <th>-129.209622</th>\n",
       "      <th>-128.522337</th>\n",
       "      <th>-127.835052</th>\n",
       "      <th>...</th>\n",
       "      <th>-6.185567</th>\n",
       "      <th>-5.498282</th>\n",
       "      <th>-4.810997</th>\n",
       "      <th>-4.123711</th>\n",
       "      <th>-3.436426</th>\n",
       "      <th>-2.749141</th>\n",
       "      <th>-2.061856</th>\n",
       "      <th>-1.374570</th>\n",
       "      <th>-0.687285</th>\n",
       "      <th>0.000000</th>\n",
       "    </tr>\n",
       "  </thead>\n",
       "  <tbody>\n",
       "    <tr>\n",
       "      <th>0</th>\n",
       "      <td>-3.612901</td>\n",
       "      <td>-3.612716</td>\n",
       "      <td>-3.612531</td>\n",
       "      <td>-3.612345</td>\n",
       "      <td>-3.612160</td>\n",
       "      <td>-3.611975</td>\n",
       "      <td>-3.611790</td>\n",
       "      <td>-3.611604</td>\n",
       "      <td>-3.611419</td>\n",
       "      <td>-3.611234</td>\n",
       "      <td>...</td>\n",
       "      <td>-3.578440</td>\n",
       "      <td>-3.578255</td>\n",
       "      <td>-3.578069</td>\n",
       "      <td>-3.577884</td>\n",
       "      <td>-3.577699</td>\n",
       "      <td>-3.577513</td>\n",
       "      <td>-3.577328</td>\n",
       "      <td>-3.577143</td>\n",
       "      <td>-3.576958</td>\n",
       "      <td>-3.576772</td>\n",
       "    </tr>\n",
       "    <tr>\n",
       "      <th>-1</th>\n",
       "      <td>-3.612901</td>\n",
       "      <td>-3.612716</td>\n",
       "      <td>-3.612531</td>\n",
       "      <td>-3.612346</td>\n",
       "      <td>-3.612160</td>\n",
       "      <td>-3.611975</td>\n",
       "      <td>-3.611790</td>\n",
       "      <td>-3.611604</td>\n",
       "      <td>-3.611419</td>\n",
       "      <td>-3.611234</td>\n",
       "      <td>...</td>\n",
       "      <td>-3.578440</td>\n",
       "      <td>-3.578255</td>\n",
       "      <td>-3.578069</td>\n",
       "      <td>-3.577884</td>\n",
       "      <td>-3.577699</td>\n",
       "      <td>-3.577514</td>\n",
       "      <td>-3.577328</td>\n",
       "      <td>-3.577143</td>\n",
       "      <td>-3.576958</td>\n",
       "      <td>-3.576772</td>\n",
       "    </tr>\n",
       "    <tr>\n",
       "      <th>-2</th>\n",
       "      <td>-3.610073</td>\n",
       "      <td>-3.609888</td>\n",
       "      <td>-3.609703</td>\n",
       "      <td>-3.609518</td>\n",
       "      <td>-3.609333</td>\n",
       "      <td>-3.609148</td>\n",
       "      <td>-3.608962</td>\n",
       "      <td>-3.608777</td>\n",
       "      <td>-3.608592</td>\n",
       "      <td>-3.608407</td>\n",
       "      <td>...</td>\n",
       "      <td>-3.575639</td>\n",
       "      <td>-3.575454</td>\n",
       "      <td>-3.575268</td>\n",
       "      <td>-3.575083</td>\n",
       "      <td>-3.574898</td>\n",
       "      <td>-3.574713</td>\n",
       "      <td>-3.574528</td>\n",
       "      <td>-3.574343</td>\n",
       "      <td>-3.574158</td>\n",
       "      <td>-3.573973</td>\n",
       "    </tr>\n",
       "    <tr>\n",
       "      <th>-3</th>\n",
       "      <td>-3.595214</td>\n",
       "      <td>-3.595030</td>\n",
       "      <td>-3.594845</td>\n",
       "      <td>-3.594661</td>\n",
       "      <td>-3.594476</td>\n",
       "      <td>-3.594292</td>\n",
       "      <td>-3.594108</td>\n",
       "      <td>-3.593923</td>\n",
       "      <td>-3.593739</td>\n",
       "      <td>-3.593555</td>\n",
       "      <td>...</td>\n",
       "      <td>-3.560921</td>\n",
       "      <td>-3.560737</td>\n",
       "      <td>-3.560552</td>\n",
       "      <td>-3.560368</td>\n",
       "      <td>-3.560184</td>\n",
       "      <td>-3.559999</td>\n",
       "      <td>-3.559815</td>\n",
       "      <td>-3.559631</td>\n",
       "      <td>-3.559446</td>\n",
       "      <td>-3.559262</td>\n",
       "    </tr>\n",
       "    <tr>\n",
       "      <th>-4</th>\n",
       "      <td>-3.570329</td>\n",
       "      <td>-3.570146</td>\n",
       "      <td>-3.569963</td>\n",
       "      <td>-3.569779</td>\n",
       "      <td>-3.569596</td>\n",
       "      <td>-3.569413</td>\n",
       "      <td>-3.569230</td>\n",
       "      <td>-3.569047</td>\n",
       "      <td>-3.568864</td>\n",
       "      <td>-3.568681</td>\n",
       "      <td>...</td>\n",
       "      <td>-3.536273</td>\n",
       "      <td>-3.536090</td>\n",
       "      <td>-3.535907</td>\n",
       "      <td>-3.535724</td>\n",
       "      <td>-3.535541</td>\n",
       "      <td>-3.535358</td>\n",
       "      <td>-3.535175</td>\n",
       "      <td>-3.534992</td>\n",
       "      <td>-3.534809</td>\n",
       "      <td>-3.534625</td>\n",
       "    </tr>\n",
       "    <tr>\n",
       "      <th>...</th>\n",
       "      <td>...</td>\n",
       "      <td>...</td>\n",
       "      <td>...</td>\n",
       "      <td>...</td>\n",
       "      <td>...</td>\n",
       "      <td>...</td>\n",
       "      <td>...</td>\n",
       "      <td>...</td>\n",
       "      <td>...</td>\n",
       "      <td>...</td>\n",
       "      <td>...</td>\n",
       "      <td>...</td>\n",
       "      <td>...</td>\n",
       "      <td>...</td>\n",
       "      <td>...</td>\n",
       "      <td>...</td>\n",
       "      <td>...</td>\n",
       "      <td>...</td>\n",
       "      <td>...</td>\n",
       "      <td>...</td>\n",
       "      <td>...</td>\n",
       "    </tr>\n",
       "    <tr>\n",
       "      <th>-596</th>\n",
       "      <td>-0.732857</td>\n",
       "      <td>-0.732820</td>\n",
       "      <td>-0.732782</td>\n",
       "      <td>-0.732744</td>\n",
       "      <td>-0.732707</td>\n",
       "      <td>-0.732669</td>\n",
       "      <td>-0.732632</td>\n",
       "      <td>-0.732594</td>\n",
       "      <td>-0.732556</td>\n",
       "      <td>-0.732519</td>\n",
       "      <td>...</td>\n",
       "      <td>-0.725867</td>\n",
       "      <td>-0.725829</td>\n",
       "      <td>-0.725792</td>\n",
       "      <td>-0.725754</td>\n",
       "      <td>-0.725716</td>\n",
       "      <td>-0.725679</td>\n",
       "      <td>-0.725641</td>\n",
       "      <td>-0.725604</td>\n",
       "      <td>-0.725566</td>\n",
       "      <td>-0.725529</td>\n",
       "    </tr>\n",
       "    <tr>\n",
       "      <th>-597</th>\n",
       "      <td>-0.690000</td>\n",
       "      <td>-0.689965</td>\n",
       "      <td>-0.689929</td>\n",
       "      <td>-0.689894</td>\n",
       "      <td>-0.689858</td>\n",
       "      <td>-0.689823</td>\n",
       "      <td>-0.689788</td>\n",
       "      <td>-0.689752</td>\n",
       "      <td>-0.689717</td>\n",
       "      <td>-0.689682</td>\n",
       "      <td>...</td>\n",
       "      <td>-0.683418</td>\n",
       "      <td>-0.683383</td>\n",
       "      <td>-0.683348</td>\n",
       "      <td>-0.683312</td>\n",
       "      <td>-0.683277</td>\n",
       "      <td>-0.683242</td>\n",
       "      <td>-0.683206</td>\n",
       "      <td>-0.683171</td>\n",
       "      <td>-0.683135</td>\n",
       "      <td>-0.683100</td>\n",
       "    </tr>\n",
       "    <tr>\n",
       "      <th>-598</th>\n",
       "      <td>-0.621111</td>\n",
       "      <td>-0.621079</td>\n",
       "      <td>-0.621047</td>\n",
       "      <td>-0.621016</td>\n",
       "      <td>-0.620984</td>\n",
       "      <td>-0.620952</td>\n",
       "      <td>-0.620920</td>\n",
       "      <td>-0.620888</td>\n",
       "      <td>-0.620856</td>\n",
       "      <td>-0.620824</td>\n",
       "      <td>...</td>\n",
       "      <td>-0.615187</td>\n",
       "      <td>-0.615155</td>\n",
       "      <td>-0.615123</td>\n",
       "      <td>-0.615091</td>\n",
       "      <td>-0.615059</td>\n",
       "      <td>-0.615027</td>\n",
       "      <td>-0.614996</td>\n",
       "      <td>-0.614964</td>\n",
       "      <td>-0.614932</td>\n",
       "      <td>-0.614900</td>\n",
       "    </tr>\n",
       "    <tr>\n",
       "      <th>-599</th>\n",
       "      <td>-0.552222</td>\n",
       "      <td>-0.552194</td>\n",
       "      <td>-0.552166</td>\n",
       "      <td>-0.552137</td>\n",
       "      <td>-0.552109</td>\n",
       "      <td>-0.552081</td>\n",
       "      <td>-0.552052</td>\n",
       "      <td>-0.552024</td>\n",
       "      <td>-0.551996</td>\n",
       "      <td>-0.551967</td>\n",
       "      <td>...</td>\n",
       "      <td>-0.546955</td>\n",
       "      <td>-0.546927</td>\n",
       "      <td>-0.546898</td>\n",
       "      <td>-0.546870</td>\n",
       "      <td>-0.546842</td>\n",
       "      <td>-0.546813</td>\n",
       "      <td>-0.546785</td>\n",
       "      <td>-0.546757</td>\n",
       "      <td>-0.546728</td>\n",
       "      <td>-0.546700</td>\n",
       "    </tr>\n",
       "    <tr>\n",
       "      <th>-600</th>\n",
       "      <td>0.000000</td>\n",
       "      <td>0.000000</td>\n",
       "      <td>0.000000</td>\n",
       "      <td>0.000000</td>\n",
       "      <td>0.000000</td>\n",
       "      <td>0.000000</td>\n",
       "      <td>0.000000</td>\n",
       "      <td>0.000000</td>\n",
       "      <td>0.000000</td>\n",
       "      <td>0.000000</td>\n",
       "      <td>...</td>\n",
       "      <td>0.000000</td>\n",
       "      <td>0.000000</td>\n",
       "      <td>0.000000</td>\n",
       "      <td>0.000000</td>\n",
       "      <td>0.000000</td>\n",
       "      <td>0.000000</td>\n",
       "      <td>0.000000</td>\n",
       "      <td>0.000000</td>\n",
       "      <td>0.000000</td>\n",
       "      <td>0.000000</td>\n",
       "    </tr>\n",
       "  </tbody>\n",
       "</table>\n",
       "<p>601 rows × 196 columns</p>\n",
       "</div>"
      ],
      "text/plain": [
       "      -134.020619  -133.333333  -132.646048  -131.958763  -131.271478  \\\n",
       " 0      -3.612901    -3.612716    -3.612531    -3.612345    -3.612160   \n",
       "-1      -3.612901    -3.612716    -3.612531    -3.612346    -3.612160   \n",
       "-2      -3.610073    -3.609888    -3.609703    -3.609518    -3.609333   \n",
       "-3      -3.595214    -3.595030    -3.594845    -3.594661    -3.594476   \n",
       "-4      -3.570329    -3.570146    -3.569963    -3.569779    -3.569596   \n",
       "...           ...          ...          ...          ...          ...   \n",
       "-596    -0.732857    -0.732820    -0.732782    -0.732744    -0.732707   \n",
       "-597    -0.690000    -0.689965    -0.689929    -0.689894    -0.689858   \n",
       "-598    -0.621111    -0.621079    -0.621047    -0.621016    -0.620984   \n",
       "-599    -0.552222    -0.552194    -0.552166    -0.552137    -0.552109   \n",
       "-600     0.000000     0.000000     0.000000     0.000000     0.000000   \n",
       "\n",
       "      -130.584192  -129.896907  -129.209622  -128.522337  -127.835052  ...  \\\n",
       " 0      -3.611975    -3.611790    -3.611604    -3.611419    -3.611234  ...   \n",
       "-1      -3.611975    -3.611790    -3.611604    -3.611419    -3.611234  ...   \n",
       "-2      -3.609148    -3.608962    -3.608777    -3.608592    -3.608407  ...   \n",
       "-3      -3.594292    -3.594108    -3.593923    -3.593739    -3.593555  ...   \n",
       "-4      -3.569413    -3.569230    -3.569047    -3.568864    -3.568681  ...   \n",
       "...           ...          ...          ...          ...          ...  ...   \n",
       "-596    -0.732669    -0.732632    -0.732594    -0.732556    -0.732519  ...   \n",
       "-597    -0.689823    -0.689788    -0.689752    -0.689717    -0.689682  ...   \n",
       "-598    -0.620952    -0.620920    -0.620888    -0.620856    -0.620824  ...   \n",
       "-599    -0.552081    -0.552052    -0.552024    -0.551996    -0.551967  ...   \n",
       "-600     0.000000     0.000000     0.000000     0.000000     0.000000  ...   \n",
       "\n",
       "      -6.185567    -5.498282    -4.810997    -4.123711    -3.436426    \\\n",
       " 0      -3.578440    -3.578255    -3.578069    -3.577884    -3.577699   \n",
       "-1      -3.578440    -3.578255    -3.578069    -3.577884    -3.577699   \n",
       "-2      -3.575639    -3.575454    -3.575268    -3.575083    -3.574898   \n",
       "-3      -3.560921    -3.560737    -3.560552    -3.560368    -3.560184   \n",
       "-4      -3.536273    -3.536090    -3.535907    -3.535724    -3.535541   \n",
       "...           ...          ...          ...          ...          ...   \n",
       "-596    -0.725867    -0.725829    -0.725792    -0.725754    -0.725716   \n",
       "-597    -0.683418    -0.683383    -0.683348    -0.683312    -0.683277   \n",
       "-598    -0.615187    -0.615155    -0.615123    -0.615091    -0.615059   \n",
       "-599    -0.546955    -0.546927    -0.546898    -0.546870    -0.546842   \n",
       "-600     0.000000     0.000000     0.000000     0.000000     0.000000   \n",
       "\n",
       "      -2.749141    -2.061856    -1.374570    -0.687285     0.000000    \n",
       " 0      -3.577513    -3.577328    -3.577143    -3.576958    -3.576772  \n",
       "-1      -3.577514    -3.577328    -3.577143    -3.576958    -3.576772  \n",
       "-2      -3.574713    -3.574528    -3.574343    -3.574158    -3.573973  \n",
       "-3      -3.559999    -3.559815    -3.559631    -3.559446    -3.559262  \n",
       "-4      -3.535358    -3.535175    -3.534992    -3.534809    -3.534625  \n",
       "...           ...          ...          ...          ...          ...  \n",
       "-596    -0.725679    -0.725641    -0.725604    -0.725566    -0.725529  \n",
       "-597    -0.683242    -0.683206    -0.683171    -0.683135    -0.683100  \n",
       "-598    -0.615027    -0.614996    -0.614964    -0.614932    -0.614900  \n",
       "-599    -0.546813    -0.546785    -0.546757    -0.546728    -0.546700  \n",
       "-600     0.000000     0.000000     0.000000     0.000000     0.000000  \n",
       "\n",
       "[601 rows x 196 columns]"
      ]
     },
     "execution_count": 15,
     "metadata": {},
     "output_type": "execute_result"
    }
   ],
   "source": []
  },
  {
   "cell_type": "code",
   "execution_count": 10,
   "id": "baa9dee0-5a88-4bd7-a036-09c434060b50",
>>>>>>> f111166e9a4cbd64e14d7d311eaf7f44298d5e8b
   "metadata": {},
   "outputs": [
    {
     "data": {
      "text/plain": [
       "array([-134.02061856, -133.33333333, -132.64604811, -131.95876289,\n",
       "       -131.27147766, -130.58419244, -129.89690722, -129.20962199,\n",
       "       -128.52233677, -127.83505155, -127.14776632, -126.4604811 ,\n",
       "       -125.77319588, -125.08591065, -124.39862543, -123.71134021,\n",
       "       -123.02405498, -122.33676976, -121.64948454, -120.96219931,\n",
       "       -120.27491409, -119.58762887, -118.90034364, -118.21305842,\n",
       "       -117.5257732 , -116.83848797, -116.15120275, -115.46391753,\n",
       "       -114.7766323 , -114.08934708, -113.40206186, -112.71477663,\n",
       "       -112.02749141, -111.34020619, -110.65292096, -109.96563574,\n",
       "       -109.27835052, -108.59106529, -107.90378007, -107.21649485,\n",
       "       -106.52920962, -105.8419244 , -105.15463918, -104.46735395,\n",
       "       -103.78006873, -103.09278351, -102.40549828, -101.71821306,\n",
       "       -101.03092784, -100.34364261,  -99.65635739,  -98.96907216,\n",
       "        -98.28178694,  -97.59450172,  -96.90721649,  -96.21993127,\n",
       "        -95.53264605,  -94.84536082,  -94.1580756 ,  -93.47079038,\n",
       "        -92.78350515,  -92.09621993,  -91.40893471,  -90.72164948,\n",
       "        -90.03436426,  -89.34707904,  -88.65979381,  -87.97250859,\n",
       "        -87.28522337,  -86.59793814,  -85.91065292,  -85.2233677 ,\n",
       "        -84.53608247,  -83.84879725,  -83.16151203,  -82.4742268 ,\n",
       "        -81.78694158,  -81.09965636,  -80.41237113,  -79.72508591,\n",
       "        -79.03780069,  -78.35051546,  -77.66323024,  -76.97594502,\n",
       "        -76.28865979,  -75.60137457,  -74.91408935,  -74.22680412,\n",
       "        -73.5395189 ,  -72.85223368,  -72.16494845,  -71.47766323,\n",
       "        -70.79037801,  -70.10309278,  -69.41580756,  -68.72852234,\n",
       "        -68.04123711,  -67.35395189,  -66.66666667,  -65.97938144,\n",
       "        -65.29209622,  -64.604811  ,  -63.91752577,  -63.23024055,\n",
       "        -62.54295533,  -61.8556701 ,  -61.16838488,  -60.48109966,\n",
       "        -59.79381443,  -59.10652921,  -58.41924399,  -57.73195876,\n",
       "        -57.04467354,  -56.35738832,  -55.67010309,  -54.98281787,\n",
       "        -54.29553265,  -53.60824742,  -52.9209622 ,  -52.23367698,\n",
       "        -51.54639175,  -50.85910653,  -50.17182131,  -49.48453608,\n",
       "        -48.79725086,  -48.10996564,  -47.42268041,  -46.73539519,\n",
       "        -46.04810997,  -45.36082474,  -44.67353952,  -43.9862543 ,\n",
       "        -43.29896907,  -42.61168385,  -41.92439863,  -41.2371134 ,\n",
       "        -40.54982818,  -39.86254296,  -39.17525773,  -38.48797251,\n",
       "        -37.80068729,  -37.11340206,  -36.42611684,  -35.73883162,\n",
       "        -35.05154639,  -34.36426117,  -33.67697595,  -32.98969072,\n",
       "        -32.3024055 ,  -31.61512027,  -30.92783505,  -30.24054983,\n",
       "        -29.5532646 ,  -28.86597938,  -28.17869416,  -27.49140893,\n",
       "        -26.80412371,  -26.11683849,  -25.42955326,  -24.74226804,\n",
       "        -24.05498282,  -23.36769759,  -22.68041237,  -21.99312715,\n",
       "        -21.30584192,  -20.6185567 ,  -19.93127148,  -19.24398625,\n",
       "        -18.55670103,  -17.86941581,  -17.18213058,  -16.49484536,\n",
       "        -15.80756014,  -15.12027491,  -14.43298969,  -13.74570447,\n",
       "        -13.05841924,  -12.37113402,  -11.6838488 ,  -10.99656357,\n",
       "        -10.30927835,   -9.62199313,   -8.9347079 ,   -8.24742268,\n",
       "         -7.56013746,   -6.87285223,   -6.18556701,   -5.49828179,\n",
       "         -4.81099656,   -4.12371134,   -3.43642612,   -2.74914089,\n",
       "         -2.06185567,   -1.37457045,   -0.68728522,    0.        ])"
      ]
     },
     "execution_count": 10,
     "metadata": {},
     "output_type": "execute_result"
    }
   ],
   "source": [
    "tmod.x"
   ]
  },
  {
   "cell_type": "code",
   "execution_count": null,
   "id": "73bb311a-9cc6-41af-90a6-7bddc90f9556",
   "metadata": {},
   "outputs": [],
   "source": []
  },
  {
   "cell_type": "code",
   "execution_count": 6,
   "id": "effad662",
   "metadata": {},
   "outputs": [
    {
     "data": {
      "text/plain": [
       "602"
      ]
     },
     "execution_count": 6,
     "metadata": {},
     "output_type": "execute_result"
    }
   ],
   "source": [
    "tmod.T_upglacier.size"
   ]
  },
  {
   "cell_type": "code",
   "execution_count": 327,
   "id": "3d6302e6",
   "metadata": {},
   "outputs": [
    {
     "data": {
      "text/plain": [
       "[<matplotlib.lines.Line2D at 0x166e6bca0>]"
      ]
     },
     "execution_count": 327,
     "metadata": {},
     "output_type": "execute_result"
    },
    {
     "data": {
      "image/png": "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\n",
      "text/plain": [
       "<Figure size 432x1080 with 1 Axes>"
      ]
     },
     "metadata": {
      "needs_background": "light"
     },
     "output_type": "display_data"
    }
   ],
   "source": [
    "T=np.interp(tmod.z,tprof[\"z\"].values,tprof[\"T\"].values)\n",
    "fig=plt.figure(figsize=(6,15))\n",
    "plt.plot(T,tmod.z)\n",
    "plt.plot(pd.Series(T).rolling(27,min_periods=1,center=True).mean().values,tmod.z)\n",
    "# ensure bed temperature is preserved\n",
    "\n",
    "plt.plot(pd.Series(T)[:27].append(pd.Series(T).rolling(27,min_periods=1,center=True).mean()[27:]),tmod.z)\n",
    "# plt.plot(pd.Series(T).rolling(27,min_periods=1,center=True,win_type=\"gaussian\").mean(std=27/8).values,tmod.z)"
   ]
  }
 ],
 "metadata": {
  "kernelspec": {
   "display_name": "Python 3",
   "language": "python",
   "name": "python3"
  },
  "language_info": {
   "codemirror_mode": {
    "name": "ipython",
    "version": 3
   },
   "file_extension": ".py",
   "mimetype": "text/x-python",
   "name": "python",
   "nbconvert_exporter": "python",
   "pygments_lexer": "ipython3",
   "version": "3.7.3"
  }
 },
 "nbformat": 4,
 "nbformat_minor": 5
}
