{
 "cells": [
  {
   "cell_type": "code",
   "execution_count": 1,
   "id": "6dd9cea1-3041-4320-a2cd-aa8ca5e65524",
   "metadata": {},
   "outputs": [],
   "source": [
    "import numpy as np\n",
    "import pandas as pd\n",
    "from matplotlib import pyplot as plt\n",
    "import seaborn as sns\n",
    "\n",
    "from crevprop.physical_constants import THERMAL_DIFFUSIVITY\n",
    "from crevprop.iceblock import IceBlock, ThermalModel"
   ]
  },
  {
   "cell_type": "markdown",
   "id": "73d4f4a0-7ea6-433b-a01e-8a7d3c8c8532",
   "metadata": {
    "tags": []
   },
   "source": [
    "`dev.ipynb` - jupyter notebook for developing the crevasse propagation model  \n",
    "\n",
    "\n",
    "*Ice Block Development*\n",
    "- [ ] create ice block geometry\n",
    "- [ ] initialize crevasse at t=0\n",
    "- [ ] create storage framework for crevasse properties\n",
    "- [ ] create domain advection/updates to geometry\n",
    "\n",
    "*Thermal Model Development*  \n",
    "- [x] build **A** matrix to calculate temperatures within the ice block  \n",
    "- [x] convert temperature matrix to vector matching **A** matrix\n",
    "- [ ] consider crevasse locations and depths in temperature model boundary conditions (A)  \n",
    "- "
   ]
  },
  {
   "cell_type": "code",
   "execution_count": null,
   "id": "b766b5e3-73fc-4a72-8ebf-6cfb4ed5f964",
   "metadata": {
    "tags": []
   },
   "outputs": [],
   "source": [
    "np.set_printoptions(threshold=np.inf, linewidth=1000)\n",
    "\n",
    "# %%html\n",
    "# <style>\n",
    "# div.output_area pre {\n",
    "#     white-space: pre;\n",
    "# }\n",
    "# </style>"
   ]
  },
  {
   "cell_type": "code",
   "execution_count": 2,
   "id": "1274d6d2-2eef-45d5-9978-7d5c981061b4",
   "metadata": {},
   "outputs": [],
   "source": [
    "\n",
    "# testing parameters (input into segmented classes)\n",
    "\n",
    "\n",
    "ice_thickness = 1000 # H - ice thickness (m)\n",
    "length = 150 # L - domain length (m)\n",
    "crev_spacing = 50 # R (m)\n",
    "\n",
    "nx = 8 # number of points in x direction (T grid)\n",
    "nz = 6 # number of points in z direction (T grid)\n",
    "dt_T = 43200000 # thermal model time step (seconds)\n",
    "dx = (0.5 * length)/round(0.5*length/np.sqrt(1.090952729018252e-6 * dt_T)) # x grid spacing\n",
    "dz = 5 # z grid spacing\n",
    "\n",
    "\n",
    "sx = round(THERMAL_DIFFUSIVITY * dt_T / dx ** 2, 3)\n",
    "sz = round(THERMAL_DIFFUSIVITY * dt_T / dz ** 2, 3)\n",
    "\n",
    "A = np.eye(nz*nx)\n",
    "for i in range(nx, (nx*nz)-nx):\n",
    "    if i%nx!=0 and i%nx!=nx-1:\n",
    "        A[i,i] = 1 + 2*sx + 2*sz\n",
    "        A[i,i-nx] = A[i,i+nx] = -sz\n",
    "        A[i,i+1] = A[i,i-1] = -sx"
   ]
  },
  {
   "cell_type": "code",
   "execution_count": null,
   "id": "2d0c5e3f-c59f-4e04-a6ae-c5ab8bc6a443",
   "metadata": {
    "tags": []
   },
   "outputs": [],
   "source": [
    "\n",
    "        \n",
    "\n",
    "\n",
    "# print(A)"
   ]
  },
  {
   "cell_type": "code",
   "execution_count": null,
   "id": "af23d72e-c36c-4d53-af2e-6d91d8b382c2",
   "metadata": {},
   "outputs": [],
   "source": [
    "tm = ThermalModel(ice_thickness, length,dt_T,dz,pd.read_csv('./data/foxxTemperatureProfile.csv',names=['t','z']))\n",
    "tm"
   ]
  },
  {
   "cell_type": "code",
   "execution_count": null,
   "id": "f9970dde-a6ab-4ba4-83bb-8b9e0d2aa4db",
   "metadata": {},
   "outputs": [],
   "source": [
    "pd.read_csv('./data/foxxTemperatureProfile.csv',names=['t','z'])"
   ]
  },
  {
   "cell_type": "code",
   "execution_count": null,
   "id": "e6b75fda-5a65-4c24-aeda-894cccef70f4",
   "metadata": {},
   "outputs": [],
   "source": []
  },
  {
   "cell_type": "code",
   "execution_count": null,
   "id": "d8eacd2f-8df4-4a34-a848-44af3cf13ae6",
   "metadata": {},
   "outputs": [],
   "source": [
    "tm.z.size"
   ]
  },
  {
   "cell_type": "code",
   "execution_count": null,
   "id": "1ce23892-2649-47ca-8c31-e6c1281d8aee",
   "metadata": {},
   "outputs": [],
   "source": [
    "tm.T_upglacier"
   ]
  },
  {
   "cell_type": "code",
   "execution_count": null,
   "id": "abc06688-592a-4440-98d6-017a9cd70705",
   "metadata": {},
   "outputs": [],
   "source": [
    "tm.Tdf"
   ]
  },
  {
   "cell_type": "code",
   "execution_count": null,
   "id": "99f587be-ad6c-46ed-956a-a852476519ee",
   "metadata": {},
   "outputs": [],
   "source": [
    "tm.Tdf[::-1]"
   ]
  },
  {
   "cell_type": "code",
   "execution_count": null,
   "id": "deeb6b54-23ef-448b-b83c-538202f22a07",
   "metadata": {},
   "outputs": [],
   "source": [
    "fig = plt.figure(figsize=(15,10))\n",
    "ax = sns.heatmap(tm.Tdf, cmap=sns.diverging_palette(230, 20, as_cmap=True), center=0)\n",
    "ax.invert_yaxis()"
   ]
  },
  {
   "cell_type": "markdown",
   "id": "3791504d-4274-4f7b-a428-fd67f77d5c56",
   "metadata": {},
   "source": [
    "### `IceBlock`\n",
    "\n",
    "\n",
    "Geometry\n",
    "\n",
    "\n",
    "                                 \n",
    "                                z  \n",
    "                                |         * = origin (0,0)\n",
    "     ---------------------------*--> x\n",
    "                                |\n",
    "                                |\n",
    "                                |  ->\n",
    "                                |  -> ice flow direction\n",
    "                                |  ->\n",
    "                                |\n",
    "                                v\n",
    "    ================================= bed\n",
    "\n",
    "\n",
    "\n",
    "\n"
   ]
  },
  {
   "cell_type": "code",
   "execution_count": null,
   "id": "0dff3669-a813-45e2-961c-70889db952c4",
   "metadata": {},
   "outputs": [],
   "source": [
    "# GEOMETRY\n",
    "\n",
    "\n",
    "# initialize crevasse\n",
    "# depth\n",
    "# width\n",
    "# location\n",
    "# domain size around crevasse\n",
    "\n",
    "\n",
    "# initial length of ice block = \n"
   ]
  },
  {
   "cell_type": "code",
   "execution_count": 6,
   "id": "4ed4bb1c-ac59-46b0-87da-4c5ceb275780",
   "metadata": {},
   "outputs": [
    {
     "data": {
      "text/plain": [
       "150.0"
      ]
     },
     "execution_count": 6,
     "metadata": {},
     "output_type": "execute_result"
    }
   ],
   "source": [
    "iceblock = IceBlock(ice_thickness, 1, 1, crev_spacing, 0.5, 10, T_profile=pd.read_csv('./data/foxxTemperatureProfile.csv',names=['t','z']))\n",
    "\n",
    "iceblock.length"
   ]
  },
  {
   "cell_type": "code",
   "execution_count": 7,
   "id": "fc578cd3-b5e8-4067-a8a6-9a59aa07b999",
   "metadata": {},
   "outputs": [
    {
     "data": {
      "text/plain": [
       "432000"
      ]
     },
     "execution_count": 7,
     "metadata": {},
     "output_type": "execute_result"
    }
   ],
   "source": []
  },
  {
   "cell_type": "code",
   "execution_count": null,
   "id": "030cb8fe-6e5a-403a-8cb8-f9f59badb5ed",
   "metadata": {},
   "outputs": [],
   "source": [
    "# xmax = usurf * tmax + round(R/2)"
   ]
  },
  {
   "cell_type": "code",
   "execution_count": 22,
   "id": "a28ab007-aab2-4c43-a321-3dab85dbd5fd",
   "metadata": {},
   "outputs": [
    {
     "data": {
      "text/plain": [
       "False"
      ]
     },
     "execution_count": 22,
     "metadata": {},
     "output_type": "execute_result"
    }
   ],
   "source": []
  },
  {
   "cell_type": "markdown",
   "id": "f6f81604-a140-425a-b6ff-e9ef9fba66c7",
   "metadata": {},
   "source": [
    "Time domain/driver function requirements\n",
    "\n",
    "\n",
    "`tmax` number of years to run the study for"
   ]
  },
  {
   "cell_type": "code",
   "execution_count": 20,
   "id": "2188cdb3-a208-40d4-a4e6-c5cff3b46090",
   "metadata": {},
   "outputs": [
    {
     "ename": "SyntaxError",
     "evalue": "invalid syntax (3461334969.py, line 4)",
     "output_type": "error",
     "traceback": [
      "\u001b[0;36m  File \u001b[0;32m\"/var/folders/42/qdgwfmld1zsdty9pbthfwljr0000gn/T/ipykernel_62609/3461334969.py\"\u001b[0;36m, line \u001b[0;32m4\u001b[0m\n\u001b[0;31m    is a\u001b[0m\n\u001b[0m    ^\u001b[0m\n\u001b[0;31mSyntaxError\u001b[0m\u001b[0;31m:\u001b[0m invalid syntax\n"
     ]
    }
   ],
   "source": []
  },
  {
   "cell_type": "code",
   "execution_count": null,
   "id": "44077dba-3d4d-40ca-9cbb-001943ceaf6f",
   "metadata": {},
   "outputs": [],
   "source": []
  },
  {
   "cell_type": "markdown",
   "id": "bfe36264-e44b-45bb-9d6a-33fadc672714",
   "metadata": {},
   "source": [
    "\n",
    "\n",
    "-----"
   ]
  },
  {
   "cell_type": "code",
   "execution_count": 6,
   "id": "dc319a84-c1a7-44b8-9b5e-055e293d284f",
   "metadata": {},
   "outputs": [],
   "source": [
    "class test:\n",
    "    def __init__(self, a):\n",
    "        self.a = a\n",
    "        self.b = self.set_b()\n",
    "        \n",
    "    def set_b(self):\n",
    "        return self.b+1 if hasattr(test,\"b\") else 100\n",
    "            "
   ]
  },
  {
   "cell_type": "code",
   "execution_count": 7,
   "id": "c9d47bc8-5ff8-4b0b-afde-40d6bf2df253",
   "metadata": {},
   "outputs": [],
   "source": [
    "t = test(1)"
   ]
  },
  {
   "cell_type": "code",
   "execution_count": 8,
   "id": "b502c78e-8045-4676-ac6b-21cfde168788",
   "metadata": {},
   "outputs": [
    {
     "data": {
      "text/plain": [
       "100"
      ]
     },
     "execution_count": 8,
     "metadata": {},
     "output_type": "execute_result"
    }
   ],
   "source": [
    "t.b"
   ]
  },
  {
   "cell_type": "code",
   "execution_count": 9,
   "id": "a38f26b9-0eb5-45f8-87d3-a9065b22f319",
   "metadata": {},
   "outputs": [
    {
     "data": {
      "text/plain": [
       "100"
      ]
     },
     "execution_count": 9,
     "metadata": {},
     "output_type": "execute_result"
    }
   ],
   "source": [
    "t.b"
   ]
  },
  {
   "cell_type": "code",
   "execution_count": null,
   "id": "52e3fa1c-18ea-4769-98e9-4c4012e3b461",
   "metadata": {},
   "outputs": [],
   "source": []
  }
 ],
 "metadata": {
  "kernelspec": {
   "display_name": "Python 3 (ipykernel)",
   "language": "python",
   "name": "python3"
  },
  "language_info": {
   "codemirror_mode": {
    "name": "ipython",
    "version": 3
   },
   "file_extension": ".py",
   "mimetype": "text/x-python",
   "name": "python",
   "nbconvert_exporter": "python",
   "pygments_lexer": "ipython3",
   "version": "3.9.7"
  }
 },
 "nbformat": 4,
 "nbformat_minor": 5
}
